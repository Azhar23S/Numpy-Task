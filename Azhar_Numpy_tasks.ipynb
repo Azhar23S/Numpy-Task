{
  "cells": [
    {
      "cell_type": "markdown",
      "metadata": {
        "id": "KRe-ObUZNv45"
      },
      "source": [
        "# Numpy\n",
        "\n"
      ]
    },
    {
      "cell_type": "markdown",
      "metadata": {
        "id": "bGt9pID9Nv5K"
      },
      "source": [
        "#### 1. Import the numpy package under the name `np` (★☆☆) \n",
        "(**hint**: import … as …)"
      ]
    },
    {
      "cell_type": "code",
      "execution_count": null,
      "metadata": {
        "collapsed": true,
        "id": "TowzZlQ0Nv5N"
      },
      "outputs": [],
      "source": [
        "import numpy as np"
      ]
    },
    {
      "cell_type": "markdown",
      "metadata": {
        "id": "xSTLEjlRNv5Q"
      },
      "source": [
        "#### 2. Print the numpy version and the configuration (★☆☆) \n",
        "(**hint**: np.\\_\\_version\\_\\_, np.show\\_config)"
      ]
    },
    {
      "cell_type": "code",
      "execution_count": null,
      "metadata": {
        "id": "SUSRHhjQNv5T",
        "colab": {
          "base_uri": "https://localhost:8080/"
        },
        "outputId": "418f3b30-19bd-4827-efa3-b8061a5dacce"
      },
      "outputs": [
        {
          "output_type": "stream",
          "name": "stdout",
          "text": [
            "1.21.6\n",
            "blas_mkl_info:\n",
            "  NOT AVAILABLE\n",
            "blis_info:\n",
            "  NOT AVAILABLE\n",
            "openblas_info:\n",
            "    libraries = ['openblas', 'openblas']\n",
            "    library_dirs = ['/usr/local/lib']\n",
            "    language = c\n",
            "    define_macros = [('HAVE_CBLAS', None)]\n",
            "    runtime_library_dirs = ['/usr/local/lib']\n",
            "blas_opt_info:\n",
            "    libraries = ['openblas', 'openblas']\n",
            "    library_dirs = ['/usr/local/lib']\n",
            "    language = c\n",
            "    define_macros = [('HAVE_CBLAS', None)]\n",
            "    runtime_library_dirs = ['/usr/local/lib']\n",
            "lapack_mkl_info:\n",
            "  NOT AVAILABLE\n",
            "openblas_lapack_info:\n",
            "    libraries = ['openblas', 'openblas']\n",
            "    library_dirs = ['/usr/local/lib']\n",
            "    language = c\n",
            "    define_macros = [('HAVE_CBLAS', None)]\n",
            "    runtime_library_dirs = ['/usr/local/lib']\n",
            "lapack_opt_info:\n",
            "    libraries = ['openblas', 'openblas']\n",
            "    library_dirs = ['/usr/local/lib']\n",
            "    language = c\n",
            "    define_macros = [('HAVE_CBLAS', None)]\n",
            "    runtime_library_dirs = ['/usr/local/lib']\n",
            "Supported SIMD extensions in this NumPy install:\n",
            "    baseline = SSE,SSE2,SSE3\n",
            "    found = SSSE3,SSE41,POPCNT,SSE42,AVX,F16C,FMA3,AVX2\n",
            "    not found = AVX512F,AVX512CD,AVX512_KNL,AVX512_KNM,AVX512_SKX,AVX512_CLX,AVX512_CNL,AVX512_ICL\n",
            "None\n"
          ]
        }
      ],
      "source": [
        "print(np.__version__)\n",
        "print(np.show_config())"
      ]
    },
    {
      "cell_type": "markdown",
      "metadata": {
        "id": "9uZUxZkSNv5U"
      },
      "source": [
        "#### 3. Create a null vector of size 10 (★☆☆) \n",
        "(**hint**: np.zeros)"
      ]
    },
    {
      "cell_type": "code",
      "execution_count": null,
      "metadata": {
        "id": "g2QzNk-XNv5Y",
        "colab": {
          "base_uri": "https://localhost:8080/"
        },
        "outputId": "3e91ee98-b3eb-43fe-d9a7-49286391684d"
      },
      "outputs": [
        {
          "output_type": "execute_result",
          "data": {
            "text/plain": [
              "array([0, 0, 0, 0, 0, 0, 0, 0, 0, 0])"
            ]
          },
          "metadata": {},
          "execution_count": 3
        }
      ],
      "source": [
        "x = np.zeros(10, dtype=int)\n",
        "x"
      ]
    },
    {
      "cell_type": "markdown",
      "metadata": {
        "id": "26BD__1ZNv5b"
      },
      "source": [
        "#### 4.  How to find the memory size of any array (★☆☆) \n",
        "(**hint**: size, itemsize)"
      ]
    },
    {
      "cell_type": "code",
      "execution_count": null,
      "metadata": {
        "id": "dK977TfSNv5e",
        "colab": {
          "base_uri": "https://localhost:8080/"
        },
        "outputId": "21f9e520-4e42-4863-8f4b-50c66b0c9299"
      },
      "outputs": [
        {
          "output_type": "execute_result",
          "data": {
            "text/plain": [
              "10"
            ]
          },
          "metadata": {},
          "execution_count": 4
        }
      ],
      "source": [
        "x.size"
      ]
    },
    {
      "cell_type": "code",
      "source": [
        "x.itemsize"
      ],
      "metadata": {
        "colab": {
          "base_uri": "https://localhost:8080/"
        },
        "id": "oA031S1LSyJl",
        "outputId": "2871fea9-bad1-4b9f-d954-585aba79d2f9"
      },
      "execution_count": null,
      "outputs": [
        {
          "output_type": "execute_result",
          "data": {
            "text/plain": [
              "8"
            ]
          },
          "metadata": {},
          "execution_count": 5
        }
      ]
    },
    {
      "cell_type": "markdown",
      "metadata": {
        "id": "qaclYFhENv5g"
      },
      "source": [
        "#### 5.  How to get the documentation of the numpy add function from the command line? (★☆☆) \n",
        "(**hint**: np.info)"
      ]
    },
    {
      "cell_type": "code",
      "execution_count": null,
      "metadata": {
        "collapsed": true,
        "id": "K8oovffnNv5i",
        "colab": {
          "base_uri": "https://localhost:8080/"
        },
        "outputId": "d86aaaad-60a2-4c70-84b6-1a0f1cffd289"
      },
      "outputs": [
        {
          "output_type": "stream",
          "name": "stdout",
          "text": [
            " info(object=None, maxwidth=76,\n",
            "      output=<ipykernel.iostream.OutStream object at 0x7f2cff4eae10>,\n",
            "      toplevel='numpy')\n",
            "\n",
            "Get help information for a function, class, or module.\n",
            "\n",
            "Parameters\n",
            "----------\n",
            "object : object or str, optional\n",
            "    Input object or name to get information about. If `object` is a\n",
            "    numpy object, its docstring is given. If it is a string, available\n",
            "    modules are searched for matching objects.  If None, information\n",
            "    about `info` itself is returned.\n",
            "maxwidth : int, optional\n",
            "    Printing width.\n",
            "output : file like object, optional\n",
            "    File like object that the output is written to, default is\n",
            "    ``stdout``.  The object has to be opened in 'w' or 'a' mode.\n",
            "toplevel : str, optional\n",
            "    Start search at this level.\n",
            "\n",
            "See Also\n",
            "--------\n",
            "source, lookfor\n",
            "\n",
            "Notes\n",
            "-----\n",
            "When used interactively with an object, ``np.info(obj)`` is equivalent\n",
            "to ``help(obj)`` on the Python prompt or ``obj?`` on the IPython\n",
            "prompt.\n",
            "\n",
            "Examples\n",
            "--------\n",
            ">>> np.info(np.polyval) # doctest: +SKIP\n",
            "   polyval(p, x)\n",
            "     Evaluate the polynomial p at x.\n",
            "     ...\n",
            "\n",
            "When using a string for `object` it is possible to get multiple results.\n",
            "\n",
            ">>> np.info('fft') # doctest: +SKIP\n",
            "     *** Found in numpy ***\n",
            "Core FFT routines\n",
            "...\n",
            "     *** Found in numpy.fft ***\n",
            " fft(a, n=None, axis=-1)\n",
            "...\n",
            "     *** Repeat reference found in numpy.fft.fftpack ***\n",
            "     *** Total of 3 references found. ***\n"
          ]
        }
      ],
      "source": [
        "np.info()"
      ]
    },
    {
      "cell_type": "markdown",
      "metadata": {
        "id": "1Ywp3tp8Nv5k"
      },
      "source": [
        "#### 6.  Create a null vector of size 10 but the fifth value which is 1 (★☆☆) \n",
        "(**hint**: array\\[4\\])"
      ]
    },
    {
      "cell_type": "code",
      "execution_count": null,
      "metadata": {
        "id": "68Jp3TZENv5m",
        "colab": {
          "base_uri": "https://localhost:8080/"
        },
        "outputId": "f673b798-f89c-4229-ae6e-e5121f7fad9a"
      },
      "outputs": [
        {
          "output_type": "stream",
          "name": "stdout",
          "text": [
            "[0. 0. 0. 0. 1. 0. 0. 0. 0. 0.]\n"
          ]
        }
      ],
      "source": [
        "x = np.zeros(10)\n",
        "x[4] = 1\n",
        "print(x)"
      ]
    },
    {
      "cell_type": "markdown",
      "metadata": {
        "id": "gyIDhTcTNv5p"
      },
      "source": [
        "#### 7.  Create a vector with values ranging from 10 to 49 (★☆☆) \n",
        "(**hint**: np.arange)"
      ]
    },
    {
      "cell_type": "code",
      "execution_count": null,
      "metadata": {
        "id": "cAAJ2__ENv5t",
        "colab": {
          "base_uri": "https://localhost:8080/"
        },
        "outputId": "8a6549fc-50a0-4ef7-84a5-222a51271423"
      },
      "outputs": [
        {
          "output_type": "execute_result",
          "data": {
            "text/plain": [
              "array([10, 11, 12, 13, 14, 15, 16, 17, 18, 19, 20, 21, 22, 23, 24, 25, 26,\n",
              "       27, 28, 29, 30, 31, 32, 33, 34, 35, 36, 37, 38, 39, 40, 41, 42, 43,\n",
              "       44, 45, 46, 47, 48, 49])"
            ]
          },
          "metadata": {},
          "execution_count": 8
        }
      ],
      "source": [
        "array = np.arange(10, 50)\n",
        "array"
      ]
    },
    {
      "cell_type": "markdown",
      "metadata": {
        "id": "4e0v28pwNv5u"
      },
      "source": [
        "#### 8.  Reverse a vector (first element becomes last) (★☆☆) \n",
        "(**hint**: array\\[::-1\\])"
      ]
    },
    {
      "cell_type": "code",
      "execution_count": null,
      "metadata": {
        "id": "IRpA-m4tNv5w",
        "colab": {
          "base_uri": "https://localhost:8080/"
        },
        "outputId": "aaa013e8-6aeb-48bf-8ea7-d78343afab5a"
      },
      "outputs": [
        {
          "output_type": "execute_result",
          "data": {
            "text/plain": [
              "array([49, 48, 47, 46, 45, 44, 43, 42, 41, 40, 39, 38, 37, 36, 35, 34, 33,\n",
              "       32, 31, 30, 29, 28, 27, 26, 25, 24, 23, 22, 21, 20, 19, 18, 17, 16,\n",
              "       15, 14, 13, 12, 11, 10])"
            ]
          },
          "metadata": {},
          "execution_count": 9
        }
      ],
      "source": [
        "array[::-1]"
      ]
    },
    {
      "cell_type": "markdown",
      "metadata": {
        "id": "Z_o4cgcKNv5x"
      },
      "source": [
        "#### 9.  Create a 3x3 matrix with values ranging from 0 to 8 (★☆☆) \n",
        "(**hint**: reshape)"
      ]
    },
    {
      "cell_type": "code",
      "execution_count": null,
      "metadata": {
        "id": "O_uyltrXNv5y",
        "colab": {
          "base_uri": "https://localhost:8080/"
        },
        "outputId": "c020fd27-05ed-492b-828c-99e221cb3ab2"
      },
      "outputs": [
        {
          "output_type": "execute_result",
          "data": {
            "text/plain": [
              "array([[0, 1, 2],\n",
              "       [3, 4, 5],\n",
              "       [6, 7, 8]])"
            ]
          },
          "metadata": {},
          "execution_count": 10
        }
      ],
      "source": [
        "matrix = np.arange(0, 9).reshape(3,3)\n",
        "matrix"
      ]
    },
    {
      "cell_type": "markdown",
      "metadata": {
        "id": "mFjSm7wCNv5z"
      },
      "source": [
        "#### 10. Find indices of non-zero elements from \\[1,2,0,0,4,0\\] (★☆☆) \n",
        "(**hint**: np.nonzero)"
      ]
    },
    {
      "cell_type": "code",
      "execution_count": null,
      "metadata": {
        "id": "Nb4EKKE2Nv51",
        "colab": {
          "base_uri": "https://localhost:8080/"
        },
        "outputId": "9eaa4697-188b-4c96-8cfe-5a5efcd1fdeb"
      },
      "outputs": [
        {
          "output_type": "execute_result",
          "data": {
            "text/plain": [
              "(array([0, 1, 4]),)"
            ]
          },
          "metadata": {},
          "execution_count": 11
        }
      ],
      "source": [
        "array = [1,2,0,0,4,0]\n",
        "nz = np.nonzero(array)\n",
        "nz"
      ]
    },
    {
      "cell_type": "markdown",
      "metadata": {
        "id": "sTwP1OXxNv53"
      },
      "source": [
        "#### 11. Create a 3x3 identity matrix (★☆☆) \n",
        "(**hint**: np.eye)"
      ]
    },
    {
      "cell_type": "code",
      "execution_count": null,
      "metadata": {
        "id": "wAW98Cg3Nv54",
        "colab": {
          "base_uri": "https://localhost:8080/"
        },
        "outputId": "b561a88c-cdb4-4791-d59e-8a79b8caff3d"
      },
      "outputs": [
        {
          "output_type": "execute_result",
          "data": {
            "text/plain": [
              "array([[1, 0, 0],\n",
              "       [0, 1, 0],\n",
              "       [0, 0, 1]])"
            ]
          },
          "metadata": {},
          "execution_count": 12
        }
      ],
      "source": [
        "i = np.eye(3, 3, dtype=int)\n",
        "i"
      ]
    },
    {
      "cell_type": "markdown",
      "metadata": {
        "id": "hVBlB0qiNv55"
      },
      "source": [
        "#### 12. Create a 3x3x3 array with random values (★☆☆) \n",
        "(**hint**: np.random.random)"
      ]
    },
    {
      "cell_type": "code",
      "execution_count": null,
      "metadata": {
        "collapsed": true,
        "id": "ctNFCA-qNv56",
        "colab": {
          "base_uri": "https://localhost:8080/"
        },
        "outputId": "2b0b40e4-8aa0-4bdb-acf3-201fb03956c6"
      },
      "outputs": [
        {
          "output_type": "execute_result",
          "data": {
            "text/plain": [
              "array([[[0.74678838, 0.16365546, 0.01349546],\n",
              "        [0.89591748, 0.86378443, 0.47748113],\n",
              "        [0.51336223, 0.36471278, 0.44578678]],\n",
              "\n",
              "       [[0.50044246, 0.04327907, 0.88424183],\n",
              "        [0.18815269, 0.69995614, 0.67913846],\n",
              "        [0.25992422, 0.52681614, 0.59847825]],\n",
              "\n",
              "       [[0.22255708, 0.06054405, 0.81205494],\n",
              "        [0.0831276 , 0.07960758, 0.29877042],\n",
              "        [0.36290506, 0.16402883, 0.10877225]]])"
            ]
          },
          "metadata": {},
          "execution_count": 13
        }
      ],
      "source": [
        "r = np.random.random((3, 3, 3))\n",
        "r"
      ]
    },
    {
      "cell_type": "markdown",
      "metadata": {
        "id": "wR_IrUglNv57"
      },
      "source": [
        "#### 13. Create a 10x10 array with random values and find the minimum and maximum values (★☆☆) \n",
        "(**hint**: min, max)"
      ]
    },
    {
      "cell_type": "code",
      "execution_count": null,
      "metadata": {
        "id": "X7Xg1ZWvNv57",
        "colab": {
          "base_uri": "https://localhost:8080/"
        },
        "outputId": "4bc47b5c-1524-43b5-e99a-81e93b783fc3"
      },
      "outputs": [
        {
          "output_type": "stream",
          "name": "stdout",
          "text": [
            "[[2.89576146e-01 5.20802925e-01 3.26716132e-01 8.88009800e-02\n",
            "  7.82566667e-01 9.65862405e-01 9.18776493e-01 2.90226059e-02\n",
            "  6.08643319e-01 4.92436327e-01]\n",
            " [9.30994775e-01 1.72513796e-01 4.58027448e-01 2.51929982e-01\n",
            "  2.66361981e-01 6.40886923e-01 2.22448285e-01 4.73720427e-01\n",
            "  9.77381389e-01 3.92002201e-01]\n",
            " [8.51679679e-01 3.31419591e-01 7.01344168e-01 2.54210727e-01\n",
            "  6.18537029e-01 4.08165466e-02 6.21641874e-01 2.28192184e-01\n",
            "  6.33825417e-01 8.18643031e-01]\n",
            " [8.88807210e-01 6.29890524e-01 3.88394863e-01 1.53773703e-01\n",
            "  5.48701475e-01 7.63449121e-04 4.98570178e-02 7.75140292e-01\n",
            "  7.53705754e-02 6.89784074e-01]\n",
            " [2.12731576e-01 8.90510341e-01 3.33719098e-01 7.30928642e-01\n",
            "  1.65287754e-01 7.39630526e-01 8.58612631e-01 4.80535422e-01\n",
            "  7.53873721e-01 5.54114017e-01]\n",
            " [1.32828129e-01 4.55006438e-02 7.12542533e-01 9.83551165e-01\n",
            "  4.30385360e-01 3.34871184e-01 6.99177999e-01 7.16235935e-01\n",
            "  1.77417232e-01 5.78454544e-02]\n",
            " [2.46801089e-01 2.86818463e-01 1.05053615e-01 7.58997897e-01\n",
            "  1.47160395e-02 6.74787971e-01 5.88883416e-01 6.51547125e-01\n",
            "  6.03744675e-01 9.84680466e-01]\n",
            " [5.00274440e-01 1.21694526e-01 2.85371248e-01 3.84191211e-01\n",
            "  6.44399686e-01 2.62850515e-02 9.87200586e-01 6.61846121e-01\n",
            "  9.39822260e-01 8.83602827e-01]\n",
            " [6.18023919e-01 4.49151147e-01 1.78360686e-01 7.02418572e-01\n",
            "  9.95510968e-01 6.95095686e-01 3.89675192e-01 8.31936586e-01\n",
            "  8.39172148e-01 9.15040915e-01]\n",
            " [7.91943139e-02 3.87181317e-01 9.44359462e-01 7.27208351e-01\n",
            "  2.15488159e-01 1.51726948e-01 4.35723291e-01 7.47952643e-01\n",
            "  1.79421436e-01 1.97298905e-01]]\n",
            "\n",
            "Min Value:  0.0007634491207931804\n",
            "Max Value:  0.9955109678854512\n"
          ]
        }
      ],
      "source": [
        "mm = np.random.random((10, 10))\n",
        "print(mm)\n",
        "print()\n",
        "print('Min Value: ', mm.min())\n",
        "print('Max Value: ', mm.max())"
      ]
    },
    {
      "cell_type": "markdown",
      "metadata": {
        "id": "L1re3ogPNv58"
      },
      "source": [
        "#### 14. Create a random vector of size 30 and find the mean value (★☆☆) \n",
        "(**hint**: mean)"
      ]
    },
    {
      "cell_type": "code",
      "execution_count": null,
      "metadata": {
        "id": "56ZS9oqNNv59",
        "colab": {
          "base_uri": "https://localhost:8080/"
        },
        "outputId": "daf115d8-21e4-4bae-bd15-2da239e2e6f7"
      },
      "outputs": [
        {
          "output_type": "stream",
          "name": "stdout",
          "text": [
            "[0.15727509 0.37816174 0.84707087 0.41883312 0.60926179 0.19597691\n",
            " 0.91919242 0.02582483 0.43791919 0.33141193 0.60443531 0.11997897\n",
            " 0.46059963 0.47530818 0.99539344 0.28931746 0.17752967 0.82554411\n",
            " 0.14522908 0.60844778 0.88983702 0.51614666 0.69199671 0.04179919\n",
            " 0.56913051 0.5277629  0.72323342 0.98695578 0.77808702 0.29412002]\n",
            "\n",
            "Mean Value:  0.5013926917818122\n"
          ]
        }
      ],
      "source": [
        "m = np.random.random((30))\n",
        "print(m)\n",
        "print()\n",
        "print('Mean Value: ', m.mean())"
      ]
    },
    {
      "cell_type": "markdown",
      "metadata": {
        "id": "dYQTKi2YNv5-"
      },
      "source": [
        "#### 15. Create a 2d array with 1 on the border and 0 inside (★☆☆) \n",
        "(**hint**: array\\[1:-1, 1:-1\\])"
      ]
    },
    {
      "cell_type": "code",
      "execution_count": null,
      "metadata": {
        "id": "Idlv0F19Nv5_",
        "colab": {
          "base_uri": "https://localhost:8080/"
        },
        "outputId": "a43a2730-ee25-49a6-e168-0bf6765a3cda"
      },
      "outputs": [
        {
          "output_type": "execute_result",
          "data": {
            "text/plain": [
              "array([[1, 1, 1],\n",
              "       [1, 0, 1],\n",
              "       [1, 1, 1]])"
            ]
          },
          "metadata": {},
          "execution_count": 16
        }
      ],
      "source": [
        "two = np.array([[1, 1, 1], [1, 0, 1], [1, 1, 1]])\n",
        "two[1:-1,1:-1] = 0\n",
        "two"
      ]
    },
    {
      "cell_type": "markdown",
      "metadata": {
        "id": "XfIVVXJBNv6A"
      },
      "source": [
        "#### 16. How to add a border (filled with 0's) around an existing array? (★☆☆) \n",
        "(**hint**: np.pad)"
      ]
    },
    {
      "cell_type": "code",
      "execution_count": null,
      "metadata": {
        "id": "RhYCYgQmNv6B",
        "colab": {
          "base_uri": "https://localhost:8080/"
        },
        "outputId": "dd10206a-d697-4166-9af4-a037a9c44a34"
      },
      "outputs": [
        {
          "output_type": "execute_result",
          "data": {
            "text/plain": [
              "array([[0, 0, 0, 0, 0],\n",
              "       [0, 1, 1, 1, 0],\n",
              "       [0, 1, 0, 1, 0],\n",
              "       [0, 1, 1, 1, 0],\n",
              "       [0, 0, 0, 0, 0]])"
            ]
          },
          "metadata": {},
          "execution_count": 17
        }
      ],
      "source": [
        "np.pad(two, pad_width=1, mode='constant', constant_values=0)"
      ]
    },
    {
      "cell_type": "markdown",
      "metadata": {
        "id": "9cFtNX14Nv6B"
      },
      "source": [
        "#### 17. What is the result of the following expression? (★☆☆) \n",
        "(**hint**: NaN = not a number, inf = infinity)"
      ]
    },
    {
      "cell_type": "markdown",
      "metadata": {
        "id": "YGs922f8Nv6C"
      },
      "source": [
        "```python\n",
        "0 * np.nan\n",
        "np.nan == np.nan\n",
        "np.inf > np.nan\n",
        "np.nan - np.nan\n",
        "0.3 == 3 * 0.1\n",
        "```"
      ]
    },
    {
      "cell_type": "code",
      "execution_count": null,
      "metadata": {
        "id": "53n9u2w7Nv6E",
        "colab": {
          "base_uri": "https://localhost:8080/"
        },
        "outputId": "4a0f7501-e941-407a-ef8d-8b6d73fa8126"
      },
      "outputs": [
        {
          "output_type": "stream",
          "name": "stdout",
          "text": [
            "nan\n",
            "False\n",
            "False\n",
            "nan\n",
            "False\n"
          ]
        }
      ],
      "source": [
        "print(0 * np.nan)\n",
        "print(np.nan == np.nan)\n",
        "print(np.inf > np.nan)\n",
        "print(np.nan - np.nan)\n",
        "print(0.3 == 3 * 0.1)"
      ]
    },
    {
      "cell_type": "markdown",
      "metadata": {
        "id": "sk0l3ql3Nv6F"
      },
      "source": [
        "#### 18. Create a 5x5 matrix with values 1,2,3,4 just below the diagonal (★☆☆) \n",
        "(**hint**: np.diag)"
      ]
    },
    {
      "cell_type": "code",
      "execution_count": null,
      "metadata": {
        "id": "6L9hh6PJNv6G",
        "colab": {
          "base_uri": "https://localhost:8080/"
        },
        "outputId": "53c9386b-552a-4f13-80c6-c9f9b616dd3e"
      },
      "outputs": [
        {
          "output_type": "execute_result",
          "data": {
            "text/plain": [
              "array([[0, 0, 0, 0, 0],\n",
              "       [1, 0, 0, 0, 0],\n",
              "       [0, 2, 0, 0, 0],\n",
              "       [0, 0, 3, 0, 0],\n",
              "       [0, 0, 0, 4, 0]])"
            ]
          },
          "metadata": {},
          "execution_count": 19
        }
      ],
      "source": [
        "z = np.diag(1+np.arange(4),k=-1)\n",
        "z"
      ]
    },
    {
      "cell_type": "markdown",
      "metadata": {
        "id": "XbQ7YIEKNv6H"
      },
      "source": [
        "#### 19. Create a 8x8 matrix and fill it with a checkerboard pattern (★☆☆) \n",
        "(**hint**: array\\[::2\\])"
      ]
    },
    {
      "cell_type": "code",
      "execution_count": null,
      "metadata": {
        "id": "xcEZiarqNv6I",
        "colab": {
          "base_uri": "https://localhost:8080/"
        },
        "outputId": "99e42016-99ab-445b-d044-a8498f24a653"
      },
      "outputs": [
        {
          "output_type": "execute_result",
          "data": {
            "text/plain": [
              "array([[0, 1, 0, 1, 0, 1, 0, 1],\n",
              "       [1, 0, 1, 0, 1, 0, 1, 0],\n",
              "       [0, 1, 0, 1, 0, 1, 0, 1],\n",
              "       [1, 0, 1, 0, 1, 0, 1, 0],\n",
              "       [0, 1, 0, 1, 0, 1, 0, 1],\n",
              "       [1, 0, 1, 0, 1, 0, 1, 0],\n",
              "       [0, 1, 0, 1, 0, 1, 0, 1],\n",
              "       [1, 0, 1, 0, 1, 0, 1, 0]])"
            ]
          },
          "metadata": {},
          "execution_count": 20
        }
      ],
      "source": [
        "e = np.zeros((8,8),dtype=int)\n",
        "e[1::2,::2] = 1\n",
        "e[::2,1::2] = 1\n",
        "e"
      ]
    },
    {
      "cell_type": "markdown",
      "metadata": {
        "id": "wfkg6-l8Nv6J"
      },
      "source": [
        "#### 20. Consider a (6,7,8) shape array, what is the index (x,y,z) of the 100th element? \n",
        "(**hint**: np.unravel_index)"
      ]
    },
    {
      "cell_type": "code",
      "execution_count": null,
      "metadata": {
        "id": "OhHz_xOXNv6K",
        "colab": {
          "base_uri": "https://localhost:8080/"
        },
        "outputId": "a76e169a-724b-438e-ee95-398f84ae6fe0"
      },
      "outputs": [
        {
          "output_type": "execute_result",
          "data": {
            "text/plain": [
              "(1, 5, 4)"
            ]
          },
          "metadata": {},
          "execution_count": 21
        }
      ],
      "source": [
        "np.unravel_index(100,(6,7,8))"
      ]
    },
    {
      "cell_type": "markdown",
      "metadata": {
        "id": "H7zW8AfnNv6L"
      },
      "source": [
        "#### 21. Create a checkerboard 8x8 matrix using the tile function (★☆☆) \n",
        "(**hint**: np.tile)"
      ]
    },
    {
      "cell_type": "code",
      "execution_count": null,
      "metadata": {
        "id": "ITUCyfY6Nv6M",
        "colab": {
          "base_uri": "https://localhost:8080/"
        },
        "outputId": "07651fa6-64d3-41cd-edef-400ce684af3e"
      },
      "outputs": [
        {
          "output_type": "execute_result",
          "data": {
            "text/plain": [
              "array([[0, 1, 0, 1, 0, 1, 0, 1],\n",
              "       [1, 0, 1, 0, 1, 0, 1, 0],\n",
              "       [0, 1, 0, 1, 0, 1, 0, 1],\n",
              "       [1, 0, 1, 0, 1, 0, 1, 0],\n",
              "       [0, 1, 0, 1, 0, 1, 0, 1],\n",
              "       [1, 0, 1, 0, 1, 0, 1, 0],\n",
              "       [0, 1, 0, 1, 0, 1, 0, 1],\n",
              "       [1, 0, 1, 0, 1, 0, 1, 0]])"
            ]
          },
          "metadata": {},
          "execution_count": 22
        }
      ],
      "source": [
        "np.tile(np.array([[0,1],[1,0]]), (4,4))"
      ]
    },
    {
      "cell_type": "markdown",
      "metadata": {
        "id": "lYt8szRsNv6N"
      },
      "source": [
        "#### 22. Normalize a 5x5 random matrix (★☆☆) \n",
        "(**hint**: (x - min) / (max - min))"
      ]
    },
    {
      "cell_type": "code",
      "execution_count": null,
      "metadata": {
        "id": "tB7y6CveNv6N",
        "colab": {
          "base_uri": "https://localhost:8080/"
        },
        "outputId": "e9d11deb-f939-47be-8242-3511c24fedb3"
      },
      "outputs": [
        {
          "output_type": "stream",
          "name": "stdout",
          "text": [
            "[[0.37314675 0.69891581 0.73267555 0.73378424 0.08499876]\n",
            " [0.13694985 0.96137876 0.33532798 0.41120839 0.52476678]\n",
            " [0.43308413 0.39231329 0.64453273 0.01706357 0.18070413]\n",
            " [0.01142017 0.21394015 0.64838269 0.67607474 0.76615859]\n",
            " [0.04369585 0.24553259 0.76434651 0.70968805 0.1186348 ]]\n",
            "\n",
            "[[0.38078141 0.72371117 0.75924929 0.76041638 0.07745452]\n",
            " [0.13214226 1.         0.34097045 0.42084805 0.5403884 ]\n",
            " [0.44387615 0.4009576  0.66646332 0.00594068 0.17820141]\n",
            " [0.         0.21318821 0.67051609 0.69966689 0.79449612]\n",
            " [0.03397588 0.24644487 0.79258859 0.73505087 0.11286242]]\n"
          ]
        }
      ],
      "source": [
        "x= np.random.random((5,5))\n",
        "print(x)\n",
        "xmax, xmin = x.max(), x.min()\n",
        "nor = (x - xmin)/(xmax - xmin)\n",
        "print()\n",
        "print(nor)"
      ]
    },
    {
      "cell_type": "markdown",
      "metadata": {
        "id": "honvfeIyNv6O"
      },
      "source": [
        "#### 23. Create a custom dtype that describes a color as four unsigned bytes (RGBA) (★☆☆) \n",
        "(**hint**: np.dtype)"
      ]
    },
    {
      "cell_type": "code",
      "execution_count": null,
      "metadata": {
        "collapsed": true,
        "id": "vKomFdERNv6P",
        "colab": {
          "base_uri": "https://localhost:8080/"
        },
        "outputId": "90ed0b30-2922-48b9-a161-c3d1e6573789"
      },
      "outputs": [
        {
          "output_type": "stream",
          "name": "stdout",
          "text": [
            "[('red', 'u1'), ('green', 'u1'), ('blue', 'u1'), ('alpha', 'u1')]\n",
            "1\n"
          ]
        },
        {
          "output_type": "execute_result",
          "data": {
            "text/plain": [
              "numpy.ndarray"
            ]
          },
          "metadata": {},
          "execution_count": 24
        }
      ],
      "source": [
        "RGBA = np.dtype([('red',np.uint8),('green',np.uint8),('blue',np.uint8),('alpha',np.uint8)])\n",
        "print(RGBA)\n",
        "color = np.array((1,2,4,3),dtype = RGBA)\n",
        "print(color['red'])\n",
        "type(color)"
      ]
    },
    {
      "cell_type": "markdown",
      "metadata": {
        "id": "DBNI_sY4Nv6P"
      },
      "source": [
        "#### 24. Multiply a 5x3 matrix by a 3x2 matrix (real matrix product) (★☆☆) \n",
        "(**hint**: np.dot | @)"
      ]
    },
    {
      "cell_type": "code",
      "execution_count": null,
      "metadata": {
        "id": "gL8LPUgBNv6Q",
        "colab": {
          "base_uri": "https://localhost:8080/"
        },
        "outputId": "5109ecda-a954-465f-b73d-fce1473baf56"
      },
      "outputs": [
        {
          "output_type": "stream",
          "name": "stdout",
          "text": [
            "[[0.2822745  0.47121645]\n",
            " [0.71413123 1.18275496]\n",
            " [0.35753666 0.26559053]\n",
            " [0.92612565 0.79377595]\n",
            " [0.99840266 1.08734488]]\n",
            "\n",
            "[[0.2822745  0.47121645]\n",
            " [0.71413123 1.18275496]\n",
            " [0.35753666 0.26559053]\n",
            " [0.92612565 0.79377595]\n",
            " [0.99840266 1.08734488]]\n"
          ]
        }
      ],
      "source": [
        "arr_1 = np.random.random((5,3))\n",
        "arr_2 = np.random.random((3,2))\n",
        "print(arr_1 @ arr_2)\n",
        "print()\n",
        "print(np.dot(arr_1,arr_2))"
      ]
    },
    {
      "cell_type": "markdown",
      "metadata": {
        "id": "YeoqrCBqNv6R"
      },
      "source": [
        "#### 25. Given a 1D array, negate all elements which are between 3 and 8, in place. (★☆☆) \n",
        "(**hint**: >, <=)"
      ]
    },
    {
      "cell_type": "code",
      "execution_count": null,
      "metadata": {
        "id": "R42jkJa6Nv6S",
        "colab": {
          "base_uri": "https://localhost:8080/"
        },
        "outputId": "5b5ac4fb-78d4-49d6-8e76-fbc1485c378c"
      },
      "outputs": [
        {
          "output_type": "stream",
          "name": "stdout",
          "text": [
            "[False False False  True  True  True  True  True  True  True  True  True\n",
            "  True  True  True  True]\n",
            "[ 0  1  2 -3 -4 -5 -6 -7 -8  9 10 11 12 13 14 15]\n"
          ]
        }
      ],
      "source": [
        "arr = np.arange(16)\n",
        "print(arr>=3)\n",
        "arr[(arr>=3) & (arr<=8)]*=(-1)\n",
        "print(arr)"
      ]
    },
    {
      "cell_type": "markdown",
      "metadata": {
        "id": "IlqbFEeINv6S"
      },
      "source": [
        "#### 26. What is the output of the following script? (★☆☆) \n",
        "(**hint**: np.sum)"
      ]
    },
    {
      "cell_type": "markdown",
      "metadata": {
        "id": "vkm9LE84Nv6T"
      },
      "source": [
        "```python\n",
        "# Author: Jake VanderPlas\n",
        "\n",
        "print(sum(range(5),-1))\n",
        "from numpy import *\n",
        "print(sum(range(5),-1))\n",
        "```"
      ]
    },
    {
      "cell_type": "code",
      "execution_count": null,
      "metadata": {
        "id": "gjE2UoUvNv6U",
        "colab": {
          "base_uri": "https://localhost:8080/"
        },
        "outputId": "f967fdde-c037-4e0c-e22f-55f177276a9c"
      },
      "outputs": [
        {
          "output_type": "stream",
          "name": "stdout",
          "text": [
            "9\n",
            "10\n"
          ]
        }
      ],
      "source": [
        "print(sum(range(5),-1))\n",
        "from numpy import *\n",
        "print(sum(range(5),-1))"
      ]
    },
    {
      "cell_type": "markdown",
      "metadata": {
        "id": "cH9XNEdhNv6V"
      },
      "source": [
        "#### 27. Consider an integer vector Z, which of these expressions are legal? (★☆☆)"
      ]
    },
    {
      "cell_type": "markdown",
      "metadata": {
        "id": "s9KPIzJzNv6X"
      },
      "source": [
        "```python\n",
        "Z**Z\n",
        "2 << Z >> 2\n",
        "Z <- Z\n",
        "1j*Z\n",
        "Z/1/1\n",
        "Z<Z>Z\n",
        "```"
      ]
    },
    {
      "cell_type": "code",
      "execution_count": null,
      "metadata": {
        "id": "n4TrQHA9Nv6Y",
        "colab": {
          "base_uri": "https://localhost:8080/",
          "height": 236
        },
        "outputId": "ea5ca80f-d1ef-4649-88c1-6e82576a98b4"
      },
      "outputs": [
        {
          "output_type": "error",
          "ename": "NameError",
          "evalue": "ignored",
          "traceback": [
            "\u001b[0;31m---------------------------------------------------------------------------\u001b[0m",
            "\u001b[0;31mNameError\u001b[0m                                 Traceback (most recent call last)",
            "\u001b[0;32m<ipython-input-28-4e3654d03fce>\u001b[0m in \u001b[0;36m<module>\u001b[0;34m()\u001b[0m\n\u001b[0;32m----> 1\u001b[0;31m \u001b[0mZ\u001b[0m\u001b[0;34m**\u001b[0m\u001b[0mZ\u001b[0m\u001b[0;34m\u001b[0m\u001b[0;34m\u001b[0m\u001b[0m\n\u001b[0m\u001b[1;32m      2\u001b[0m \u001b[0;36m2\u001b[0m \u001b[0;34m<<\u001b[0m \u001b[0mZ\u001b[0m \u001b[0;34m>>\u001b[0m \u001b[0;36m2\u001b[0m\u001b[0;34m\u001b[0m\u001b[0;34m\u001b[0m\u001b[0m\n\u001b[1;32m      3\u001b[0m \u001b[0mZ\u001b[0m \u001b[0;34m<\u001b[0m\u001b[0;34m-\u001b[0m \u001b[0mZ\u001b[0m\u001b[0;34m\u001b[0m\u001b[0;34m\u001b[0m\u001b[0m\n\u001b[1;32m      4\u001b[0m \u001b[0;36m1j\u001b[0m\u001b[0;34m*\u001b[0m\u001b[0mZ\u001b[0m\u001b[0;34m\u001b[0m\u001b[0;34m\u001b[0m\u001b[0m\n\u001b[1;32m      5\u001b[0m \u001b[0mZ\u001b[0m\u001b[0;34m/\u001b[0m\u001b[0;36m1\u001b[0m\u001b[0;34m/\u001b[0m\u001b[0;36m1\u001b[0m\u001b[0;34m\u001b[0m\u001b[0;34m\u001b[0m\u001b[0m\n",
            "\u001b[0;31mNameError\u001b[0m: name 'Z' is not defined"
          ]
        }
      ],
      "source": [
        "Z**Z\n",
        "2 << Z >> 2\n",
        "Z <- Z\n",
        "1j*Z\n",
        "Z/1/1\n",
        "Z<Z>Z"
      ]
    },
    {
      "cell_type": "markdown",
      "metadata": {
        "id": "8s0GDJcMNv6Z"
      },
      "source": [
        "#### 28. What are the result of the following expressions?"
      ]
    },
    {
      "cell_type": "markdown",
      "metadata": {
        "id": "h5ZxxeJYNv6a"
      },
      "source": [
        "```python\n",
        "np.array(0) / np.array(0)\n",
        "np.array(0) // np.array(0)\n",
        "np.array([np.nan]).astype(int).astype(float)\n",
        "```"
      ]
    },
    {
      "cell_type": "code",
      "execution_count": null,
      "metadata": {
        "id": "BznAHsgfNv6b",
        "colab": {
          "base_uri": "https://localhost:8080/"
        },
        "outputId": "7ca29018-15b6-4aa9-9e6e-139390e80f1a"
      },
      "outputs": [
        {
          "output_type": "stream",
          "name": "stdout",
          "text": [
            "nan\n",
            "0\n",
            "[-9.22337204e+18]\n"
          ]
        },
        {
          "output_type": "stream",
          "name": "stderr",
          "text": [
            "/usr/local/lib/python3.7/dist-packages/ipykernel_launcher.py:1: RuntimeWarning: invalid value encountered in true_divide\n",
            "  \"\"\"Entry point for launching an IPython kernel.\n",
            "/usr/local/lib/python3.7/dist-packages/ipykernel_launcher.py:2: RuntimeWarning: divide by zero encountered in floor_divide\n",
            "  \n"
          ]
        }
      ],
      "source": [
        "print(np.array(0) / np.array(0))\n",
        "print(np.array(0) // np.array(0))\n",
        "print(np.array([np.nan]).astype(int).astype(float))"
      ]
    },
    {
      "cell_type": "markdown",
      "metadata": {
        "id": "M8WBSiyBNv6b"
      },
      "source": [
        "#### 29. How to round away from zero a float array ? (★☆☆) \n",
        "(**hint**: np.uniform, np.copysign, np.ceil, np.abs)"
      ]
    },
    {
      "cell_type": "code",
      "execution_count": null,
      "metadata": {
        "id": "FrXDtnlHNv6c",
        "colab": {
          "base_uri": "https://localhost:8080/"
        },
        "outputId": "46df8007-2ff6-4047-8140-3785e92aae63"
      },
      "outputs": [
        {
          "output_type": "stream",
          "name": "stdout",
          "text": [
            "[ -7.   3.   1.  -7.   4.  -5.   3. -10. -10.   8.]\n"
          ]
        }
      ],
      "source": [
        "Z = np.random.uniform(-10,+10,10)\n",
        "print (np.copysign(np.ceil(np.abs(Z)), Z))"
      ]
    },
    {
      "cell_type": "markdown",
      "metadata": {
        "id": "yk9rHDk0Nv6c"
      },
      "source": [
        "#### 30. How to find common values between two arrays? (★☆☆) \n",
        "(**hint**: np.intersect1d)"
      ]
    },
    {
      "cell_type": "code",
      "execution_count": null,
      "metadata": {
        "id": "kjE0MM7xNv6d",
        "colab": {
          "base_uri": "https://localhost:8080/"
        },
        "outputId": "43cc9a82-c53b-489a-d6d5-61b3d59ae075"
      },
      "outputs": [
        {
          "output_type": "stream",
          "name": "stdout",
          "text": [
            "[0 4]\n"
          ]
        }
      ],
      "source": [
        "Z1 = np.random.randint(0,10,10)\n",
        "Z2 = np.random.randint(0,10,10)\n",
        "print(np.intersect1d(Z1,Z2))"
      ]
    },
    {
      "cell_type": "markdown",
      "metadata": {
        "id": "6cF_8u34Nv6e"
      },
      "source": [
        "#### 31. How to ignore all numpy warnings (not recommended)? (★☆☆) \n",
        "(**hint**: np.seterr, np.errstate)"
      ]
    },
    {
      "cell_type": "code",
      "execution_count": null,
      "metadata": {
        "id": "UV9BeZfUNv6e",
        "colab": {
          "base_uri": "https://localhost:8080/",
          "height": 131
        },
        "outputId": "e5303379-4911-46da-dfd2-4450c9a9ef54"
      },
      "outputs": [
        {
          "output_type": "error",
          "ename": "SyntaxError",
          "evalue": "ignored",
          "traceback": [
            "\u001b[0;36m  File \u001b[0;32m\"<ipython-input-32-227dfdedf956>\"\u001b[0;36m, line \u001b[0;32m6\u001b[0m\n\u001b[0;31m    An equivalent way, with a context manager:\u001b[0m\n\u001b[0m                ^\u001b[0m\n\u001b[0;31mSyntaxError\u001b[0m\u001b[0;31m:\u001b[0m invalid syntax\n"
          ]
        }
      ],
      "source": [
        "defaults = np.seterr(all=\"ignore\")\n",
        "Z = np.ones(1) / 0\n",
        "\n",
        "_ = np.seterr(**defaults)\n",
        "\n",
        "An equivalent way, with a context manager:\n",
        "\n",
        "with np.errstate(divide='ignore'):\n",
        "    Z = np.ones(1) / 0"
      ]
    },
    {
      "cell_type": "markdown",
      "metadata": {
        "id": "QCcLNnnGNv6f"
      },
      "source": [
        "#### 32. Is the following expressions true? (★☆☆) \n",
        "(**hint**: imaginary number)"
      ]
    },
    {
      "cell_type": "markdown",
      "metadata": {
        "id": "vu_p-xptNv6g"
      },
      "source": [
        "```python\n",
        "np.sqrt(-1) == np.emath.sqrt(-1)\n",
        "```"
      ]
    },
    {
      "cell_type": "code",
      "execution_count": null,
      "metadata": {
        "id": "xAaHBNHkNv6h",
        "colab": {
          "base_uri": "https://localhost:8080/"
        },
        "outputId": "7305f3da-f927-4c54-9581-c8fcec276e85"
      },
      "outputs": [
        {
          "output_type": "stream",
          "name": "stderr",
          "text": [
            "/usr/local/lib/python3.7/dist-packages/ipykernel_launcher.py:1: RuntimeWarning: invalid value encountered in sqrt\n",
            "  \"\"\"Entry point for launching an IPython kernel.\n"
          ]
        },
        {
          "output_type": "execute_result",
          "data": {
            "text/plain": [
              "False"
            ]
          },
          "metadata": {},
          "execution_count": 33
        }
      ],
      "source": [
        "np.sqrt(-1) == np.emath.sqrt(-1)"
      ]
    },
    {
      "cell_type": "markdown",
      "metadata": {
        "id": "EvllOOmBNv6h"
      },
      "source": [
        "#### 33. How to get the dates of yesterday, today and tomorrow? (★☆☆) \n",
        "(**hint**: np.datetime64, np.timedelta64)"
      ]
    },
    {
      "cell_type": "code",
      "execution_count": null,
      "metadata": {
        "collapsed": true,
        "id": "yP5I-SJGNv6i",
        "colab": {
          "base_uri": "https://localhost:8080/"
        },
        "outputId": "5d3b35bd-9319-491a-fcb9-0b4095632b07"
      },
      "outputs": [
        {
          "output_type": "stream",
          "name": "stdout",
          "text": [
            "2022-08-12\n",
            "2022-08-13\n",
            "2022-08-14\n"
          ]
        }
      ],
      "source": [
        "yesterday = np.datetime64('today', 'D') - np.timedelta64(1, 'D')\n",
        "today     = np.datetime64('today', 'D')\n",
        "tomorrow  = np.datetime64('today', 'D') + np.timedelta64(1, 'D')\n",
        "\n",
        "print(yesterday)\n",
        "print(today)\n",
        "print(tomorrow)"
      ]
    },
    {
      "cell_type": "markdown",
      "metadata": {
        "id": "UWocPYaKNv6i"
      },
      "source": [
        "#### 34. How to get all the dates corresponding to the month of July 2016? (★★☆) \n",
        "(**hint**: np.arange(dtype=datetime64\\['D'\\]))"
      ]
    },
    {
      "cell_type": "code",
      "execution_count": null,
      "metadata": {
        "id": "Ivp_oNDXNv6j",
        "colab": {
          "base_uri": "https://localhost:8080/"
        },
        "outputId": "9adb9852-7066-4a31-f8fa-5278d84a12ce"
      },
      "outputs": [
        {
          "output_type": "stream",
          "name": "stdout",
          "text": [
            "['2016-07-01' '2016-07-02' '2016-07-03' '2016-07-04' '2016-07-05'\n",
            " '2016-07-06' '2016-07-07' '2016-07-08' '2016-07-09' '2016-07-10'\n",
            " '2016-07-11' '2016-07-12' '2016-07-13' '2016-07-14' '2016-07-15'\n",
            " '2016-07-16' '2016-07-17' '2016-07-18' '2016-07-19' '2016-07-20'\n",
            " '2016-07-21' '2016-07-22' '2016-07-23' '2016-07-24' '2016-07-25'\n",
            " '2016-07-26' '2016-07-27' '2016-07-28' '2016-07-29' '2016-07-30'\n",
            " '2016-07-31']\n"
          ]
        }
      ],
      "source": [
        "Z = np.arange('2016-07', '2016-08', dtype='datetime64[D]')\n",
        "print(Z)"
      ]
    },
    {
      "cell_type": "markdown",
      "metadata": {
        "id": "INHuaYLxNv6k"
      },
      "source": [
        "#### 35. How to compute ((A+B)\\*(-A/2)) in place (without copy)? (★★☆) \n",
        "(**hint**: np.add(out=), np.negative(out=), np.multiply(out=), np.divide(out=))"
      ]
    },
    {
      "cell_type": "code",
      "execution_count": null,
      "metadata": {
        "id": "sGTki-QgNv6l",
        "colab": {
          "base_uri": "https://localhost:8080/"
        },
        "outputId": "2ccd3cda-16af-4401-fee0-1bcebab3c4e6"
      },
      "outputs": [
        {
          "output_type": "execute_result",
          "data": {
            "text/plain": [
              "array([-1.5, -1.5, -1.5])"
            ]
          },
          "metadata": {},
          "execution_count": 36
        }
      ],
      "source": [
        "A = np.ones(3)*1\n",
        "B = np.ones(3)*2\n",
        "C = np.ones(3)*3\n",
        "np.add(A,B,out=B)\n",
        "np.divide(A,2,out=A)\n",
        "np.negative(A,out=A)\n",
        "np.multiply(A,B,out=A)"
      ]
    },
    {
      "cell_type": "markdown",
      "metadata": {
        "id": "aEp-4BHdNv6l"
      },
      "source": [
        "#### 36. Extract the integer part of a random array using 5 different methods (★★☆) \n",
        "(**hint**: %, np.floor, np.ceil, astype, np.trunc)"
      ]
    },
    {
      "cell_type": "code",
      "execution_count": null,
      "metadata": {
        "id": "KpWbNBFpNv6m",
        "colab": {
          "base_uri": "https://localhost:8080/"
        },
        "outputId": "2d639afc-2cd8-47d5-a049-57a5bb046926"
      },
      "outputs": [
        {
          "output_type": "stream",
          "name": "stdout",
          "text": [
            "[7. 4. 9. 0. 2. 4. 8. 2. 6. 6.]\n",
            "[7. 4. 9. 0. 2. 4. 8. 2. 6. 6.]\n",
            "[7. 4. 9. 0. 2. 4. 8. 2. 6. 6.]\n",
            "[7 4 9 0 2 4 8 2 6 6]\n",
            "[7. 4. 9. 0. 2. 4. 8. 2. 6. 6.]\n"
          ]
        }
      ],
      "source": [
        "Z = np.random.uniform(0,10,10)\n",
        "\n",
        "print (Z - Z%1)\n",
        "print (np.floor(Z))\n",
        "print (np.ceil(Z)-1)\n",
        "print (Z.astype(int))\n",
        "print (np.trunc(Z))"
      ]
    },
    {
      "cell_type": "markdown",
      "metadata": {
        "id": "gBk4T4_BNv6n"
      },
      "source": [
        "#### 37. Create a 5x5 matrix with row values ranging from 0 to 4 (★★☆) \n",
        "(**hint**: np.arange)"
      ]
    },
    {
      "cell_type": "code",
      "execution_count": null,
      "metadata": {
        "id": "fcOPe2jkNv6o",
        "colab": {
          "base_uri": "https://localhost:8080/"
        },
        "outputId": "2bb60137-7c64-490f-d55c-f8798dba08ed"
      },
      "outputs": [
        {
          "output_type": "stream",
          "name": "stdout",
          "text": [
            "[[0. 1. 2. 3. 4.]\n",
            " [0. 1. 2. 3. 4.]\n",
            " [0. 1. 2. 3. 4.]\n",
            " [0. 1. 2. 3. 4.]\n",
            " [0. 1. 2. 3. 4.]]\n"
          ]
        }
      ],
      "source": [
        "Z = np.zeros((5,5))\n",
        "Z += np.arange(5)\n",
        "print(Z)"
      ]
    },
    {
      "cell_type": "markdown",
      "metadata": {
        "id": "gMus5_-lNv6p"
      },
      "source": [
        "#### 38. Consider a generator function that generates 10 integers and use it to build an array (★☆☆) \n",
        "(**hint**: np.fromiter)"
      ]
    },
    {
      "cell_type": "code",
      "execution_count": null,
      "metadata": {
        "id": "ThicmVOQNv6p",
        "colab": {
          "base_uri": "https://localhost:8080/"
        },
        "outputId": "b3ddd3aa-7fd3-46fc-e137-2ddad358bc80"
      },
      "outputs": [
        {
          "output_type": "stream",
          "name": "stdout",
          "text": [
            "[0. 1. 2. 3. 4. 5. 6. 7. 8. 9.]\n"
          ]
        }
      ],
      "source": [
        "def generate():\n",
        "    for x in range(10):\n",
        "        yield x\n",
        "Z = np.fromiter(generate(),dtype=float,count=-1)\n",
        "print(Z)"
      ]
    },
    {
      "cell_type": "markdown",
      "metadata": {
        "id": "zFMHoP-bNv6q"
      },
      "source": [
        "#### 39. Create a vector of size 10 with values ranging from 0 to 1, both excluded (★★☆) \n",
        "(**hint**: np.linspace)"
      ]
    },
    {
      "cell_type": "code",
      "execution_count": null,
      "metadata": {
        "id": "2Nk-AzqyNv6r",
        "colab": {
          "base_uri": "https://localhost:8080/"
        },
        "outputId": "3c35a378-d53e-4a05-dccd-54342635342e"
      },
      "outputs": [
        {
          "output_type": "stream",
          "name": "stdout",
          "text": [
            "[0.09090909 0.18181818 0.27272727 0.36363636 0.45454545 0.54545455\n",
            " 0.63636364 0.72727273 0.81818182 0.90909091]\n"
          ]
        }
      ],
      "source": [
        "Z = np.linspace(0,1,11,endpoint=False)[1:]\n",
        "print(Z)"
      ]
    },
    {
      "cell_type": "markdown",
      "metadata": {
        "id": "ShWzdWahNv6s"
      },
      "source": [
        "#### 40. Create a random vector of size 10 and sort it (★★☆) \n",
        "(**hint**: sort)"
      ]
    },
    {
      "cell_type": "code",
      "execution_count": null,
      "metadata": {
        "id": "qCZLcvBKNv6s",
        "colab": {
          "base_uri": "https://localhost:8080/"
        },
        "outputId": "8082e875-4e3d-415a-f173-619d39afd91e"
      },
      "outputs": [
        {
          "output_type": "stream",
          "name": "stdout",
          "text": [
            "[0.17841966 0.26612496 0.27431531 0.43519047 0.52269338 0.60443802\n",
            " 0.67864133 0.81914507 0.83922889 0.88487318]\n"
          ]
        }
      ],
      "source": [
        "Z = np.random.random(10)\n",
        "Z.sort()\n",
        "print(Z)"
      ]
    },
    {
      "cell_type": "markdown",
      "metadata": {
        "id": "EeqHKp0ENv6t"
      },
      "source": [
        "#### 41. How to sum a small array faster than np.sum? (★★☆) \n",
        "(**hint**: np.add.reduce)"
      ]
    },
    {
      "cell_type": "code",
      "execution_count": null,
      "metadata": {
        "id": "a356wFFyNv6u",
        "colab": {
          "base_uri": "https://localhost:8080/"
        },
        "outputId": "34927b23-e851-4184-b1f2-5c64f57c60ba"
      },
      "outputs": [
        {
          "output_type": "execute_result",
          "data": {
            "text/plain": [
              "45"
            ]
          },
          "metadata": {},
          "execution_count": 42
        }
      ],
      "source": [
        "Z = np.arange(10)\n",
        "np.add.reduce(Z)"
      ]
    },
    {
      "cell_type": "markdown",
      "metadata": {
        "id": "Hc9wrrrhNv6u"
      },
      "source": [
        "#### 42. Consider two random array A and B, check if they are equal (★★☆) \n",
        "(**hint**: np.allclose, np.array\\_equal)"
      ]
    },
    {
      "cell_type": "code",
      "execution_count": null,
      "metadata": {
        "id": "mzadoHa-Nv6v",
        "colab": {
          "base_uri": "https://localhost:8080/"
        },
        "outputId": "b88aa13d-6f1f-47e6-cc48-df501f58ed23"
      },
      "outputs": [
        {
          "output_type": "stream",
          "name": "stdout",
          "text": [
            "False\n",
            "False\n"
          ]
        }
      ],
      "source": [
        "A = np.random.randint(0,2,5)\n",
        "B = np.random.randint(0,2,5)\n",
        "\n",
        "equal = np.allclose(A,B)\n",
        "print(equal)\n",
        "\n",
        "equal = np.array_equal(A,B)\n",
        "print(equal)"
      ]
    },
    {
      "cell_type": "markdown",
      "metadata": {
        "id": "Z4ht9HmJNv6w"
      },
      "source": [
        "#### 43. Make an array immutable (read-only) (★★☆) \n",
        "(**hint**: flags.writeable)"
      ]
    },
    {
      "cell_type": "code",
      "execution_count": null,
      "metadata": {
        "id": "NUQQgBUqNv6w",
        "colab": {
          "base_uri": "https://localhost:8080/",
          "height": 201
        },
        "outputId": "8a9a7717-6d95-45d3-8795-bb4a93ab7d7f"
      },
      "outputs": [
        {
          "output_type": "error",
          "ename": "ValueError",
          "evalue": "ignored",
          "traceback": [
            "\u001b[0;31m---------------------------------------------------------------------------\u001b[0m",
            "\u001b[0;31mValueError\u001b[0m                                Traceback (most recent call last)",
            "\u001b[0;32m<ipython-input-44-dcc5e7f145b5>\u001b[0m in \u001b[0;36m<module>\u001b[0;34m()\u001b[0m\n\u001b[1;32m      1\u001b[0m \u001b[0mZ\u001b[0m \u001b[0;34m=\u001b[0m \u001b[0mnp\u001b[0m\u001b[0;34m.\u001b[0m\u001b[0mzeros\u001b[0m\u001b[0;34m(\u001b[0m\u001b[0;36m10\u001b[0m\u001b[0;34m)\u001b[0m\u001b[0;34m\u001b[0m\u001b[0;34m\u001b[0m\u001b[0m\n\u001b[1;32m      2\u001b[0m \u001b[0mZ\u001b[0m\u001b[0;34m.\u001b[0m\u001b[0mflags\u001b[0m\u001b[0;34m.\u001b[0m\u001b[0mwriteable\u001b[0m \u001b[0;34m=\u001b[0m \u001b[0;32mFalse\u001b[0m\u001b[0;34m\u001b[0m\u001b[0;34m\u001b[0m\u001b[0m\n\u001b[0;32m----> 3\u001b[0;31m \u001b[0mZ\u001b[0m\u001b[0;34m[\u001b[0m\u001b[0;36m0\u001b[0m\u001b[0;34m]\u001b[0m \u001b[0;34m=\u001b[0m \u001b[0;36m1\u001b[0m\u001b[0;34m\u001b[0m\u001b[0;34m\u001b[0m\u001b[0m\n\u001b[0m",
            "\u001b[0;31mValueError\u001b[0m: assignment destination is read-only"
          ]
        }
      ],
      "source": [
        "Z = np.zeros(10)\n",
        "Z.flags.writeable = False\n",
        "Z[0] = 1"
      ]
    },
    {
      "cell_type": "markdown",
      "metadata": {
        "id": "-TaM59F0Nv6x"
      },
      "source": [
        "#### 44. Consider a random 10x2 matrix representing cartesian coordinates, convert them to polar coordinates (★★☆) \n",
        "(**hint**: np.sqrt, np.arctan2)"
      ]
    },
    {
      "cell_type": "code",
      "execution_count": null,
      "metadata": {
        "id": "YIIobFMNNv6y",
        "colab": {
          "base_uri": "https://localhost:8080/"
        },
        "outputId": "3d911495-fd42-4928-b0dd-3af4e9627f6c"
      },
      "outputs": [
        {
          "output_type": "stream",
          "name": "stdout",
          "text": [
            "[0.43180364 0.57543533 0.48774345 0.92742238 0.88027519 0.81325211\n",
            " 0.64987338 0.36918774 0.89497378 0.67390412]\n",
            "[0.27285078 0.52973212 0.13715205 0.39448857 1.5190831  0.88083553\n",
            " 0.7943156  1.3508029  0.54584167 0.29360874]\n"
          ]
        }
      ],
      "source": [
        "Z = np.random.random((10,2))\n",
        "X,Y = Z[:,0], Z[:,1]\n",
        "R = np.sqrt(X**2+Y**2)\n",
        "T = np.arctan2(Y,X)\n",
        "print(R)\n",
        "print(T)"
      ]
    },
    {
      "cell_type": "markdown",
      "metadata": {
        "id": "3Ay3Ar09Nv6y"
      },
      "source": [
        "#### 45. Create random vector of size 10 and replace the maximum value by 0 (★★☆) \n",
        "(**hint**: argmax)"
      ]
    },
    {
      "cell_type": "code",
      "execution_count": null,
      "metadata": {
        "id": "MQOrSa1HNv6z",
        "colab": {
          "base_uri": "https://localhost:8080/"
        },
        "outputId": "1aed66ff-12ff-47fa-9e62-00249f226a5b"
      },
      "outputs": [
        {
          "output_type": "stream",
          "name": "stdout",
          "text": [
            "[0.35592107 0.20430888 0.24507506 0.25697883 0.16387321 0.\n",
            " 0.48531349 0.63751194 0.76145169 0.78402779]\n"
          ]
        }
      ],
      "source": [
        "Z = np.random.random(10)\n",
        "Z[Z.argmax()] = 0\n",
        "print(Z)"
      ]
    },
    {
      "cell_type": "markdown",
      "metadata": {
        "id": "z10sQBAsNv6z"
      },
      "source": [
        "#### 46. Create a structured array with `x` and `y` coordinates covering the \\[0,1\\]x\\[0,1\\] area (★★☆) \n",
        "(**hint**: np.meshgrid)"
      ]
    },
    {
      "cell_type": "code",
      "execution_count": null,
      "metadata": {
        "id": "dZxW1EYbNv60",
        "colab": {
          "base_uri": "https://localhost:8080/"
        },
        "outputId": "d5dd44e7-ef5c-43d2-a257-1b79ffa2466a"
      },
      "outputs": [
        {
          "output_type": "stream",
          "name": "stdout",
          "text": [
            "[[(0.  , 0.  ) (0.25, 0.  ) (0.5 , 0.  ) (0.75, 0.  ) (1.  , 0.  )]\n",
            " [(0.  , 0.25) (0.25, 0.25) (0.5 , 0.25) (0.75, 0.25) (1.  , 0.25)]\n",
            " [(0.  , 0.5 ) (0.25, 0.5 ) (0.5 , 0.5 ) (0.75, 0.5 ) (1.  , 0.5 )]\n",
            " [(0.  , 0.75) (0.25, 0.75) (0.5 , 0.75) (0.75, 0.75) (1.  , 0.75)]\n",
            " [(0.  , 1.  ) (0.25, 1.  ) (0.5 , 1.  ) (0.75, 1.  ) (1.  , 1.  )]]\n"
          ]
        }
      ],
      "source": [
        "Z = np.zeros((5,5), [('x',float),('y',float)])\n",
        "Z['x'], Z['y'] = np.meshgrid(np.linspace(0,1,5),\n",
        "                             np.linspace(0,1,5))\n",
        "print(Z)"
      ]
    },
    {
      "cell_type": "markdown",
      "metadata": {
        "id": "KKjkYfdhNv61"
      },
      "source": [
        "####  47. Given two arrays, X and Y, construct the Cauchy matrix C (Cij =1/(xi - yj)) \n",
        "(**hint**: np.subtract.outer)"
      ]
    },
    {
      "cell_type": "code",
      "execution_count": null,
      "metadata": {
        "id": "NgOIuLmsNv61",
        "colab": {
          "base_uri": "https://localhost:8080/"
        },
        "outputId": "8ea48816-34f3-4e3c-ed20-6a3c8799f03f"
      },
      "outputs": [
        {
          "output_type": "stream",
          "name": "stdout",
          "text": [
            "3638.163637117973\n"
          ]
        }
      ],
      "source": [
        "X = np.arange(8)\n",
        "Y = X + 0.5\n",
        "C = 1.0 / np.subtract.outer(X, Y)\n",
        "print(np.linalg.det(C))"
      ]
    },
    {
      "cell_type": "markdown",
      "metadata": {
        "id": "7mFmwCaCNv62"
      },
      "source": [
        "#### 48. Print the minimum and maximum representable value for each numpy scalar type (★★☆) \n",
        "(**hint**: np.iinfo, np.finfo, eps)"
      ]
    },
    {
      "cell_type": "code",
      "execution_count": null,
      "metadata": {
        "id": "CGrHWWqwNv63",
        "colab": {
          "base_uri": "https://localhost:8080/"
        },
        "outputId": "c24c0e0f-6093-4f6b-ba45-95e64fef55dd"
      },
      "outputs": [
        {
          "output_type": "stream",
          "name": "stdout",
          "text": [
            "-128\n",
            "127\n",
            "-2147483648\n",
            "2147483647\n",
            "-9223372036854775808\n",
            "9223372036854775807\n",
            "-3.4028235e+38\n",
            "3.4028235e+38\n",
            "1.1920929e-07\n",
            "-1.7976931348623157e+308\n",
            "1.7976931348623157e+308\n",
            "2.220446049250313e-16\n"
          ]
        }
      ],
      "source": [
        "for dtype in [np.int8, np.int32, np.int64]:\n",
        "   print(np.iinfo(dtype).min)\n",
        "   print(np.iinfo(dtype).max)\n",
        "for dtype in [np.float32, np.float64]:\n",
        "   print(np.finfo(dtype).min)\n",
        "   print(np.finfo(dtype).max)\n",
        "   print(np.finfo(dtype).eps)"
      ]
    },
    {
      "cell_type": "markdown",
      "metadata": {
        "id": "1qyYUPsCNv64"
      },
      "source": [
        "#### 49. How to print all the values of an array? (★★☆) \n",
        "(**hint**: np.set\\_printoptions)"
      ]
    },
    {
      "cell_type": "code",
      "execution_count": null,
      "metadata": {
        "id": "A0zKxA8nNv64",
        "colab": {
          "base_uri": "https://localhost:8080/",
          "height": 364
        },
        "outputId": "3ca4f764-d158-4bd4-b877-2a8cd5eb668c"
      },
      "outputs": [
        {
          "output_type": "error",
          "ename": "ValueError",
          "evalue": "ignored",
          "traceback": [
            "\u001b[0;31m---------------------------------------------------------------------------\u001b[0m",
            "\u001b[0;31mValueError\u001b[0m                                Traceback (most recent call last)",
            "\u001b[0;32m<ipython-input-50-8e6bd600a6bc>\u001b[0m in \u001b[0;36m<module>\u001b[0;34m()\u001b[0m\n\u001b[0;32m----> 1\u001b[0;31m \u001b[0mnp\u001b[0m\u001b[0;34m.\u001b[0m\u001b[0mset_printoptions\u001b[0m\u001b[0;34m(\u001b[0m\u001b[0mthreshold\u001b[0m\u001b[0;34m=\u001b[0m\u001b[0mnp\u001b[0m\u001b[0;34m.\u001b[0m\u001b[0mnan\u001b[0m\u001b[0;34m)\u001b[0m\u001b[0;34m\u001b[0m\u001b[0;34m\u001b[0m\u001b[0m\n\u001b[0m\u001b[1;32m      2\u001b[0m \u001b[0mZ\u001b[0m \u001b[0;34m=\u001b[0m \u001b[0mnp\u001b[0m\u001b[0;34m.\u001b[0m\u001b[0mzeros\u001b[0m\u001b[0;34m(\u001b[0m\u001b[0;34m(\u001b[0m\u001b[0;36m16\u001b[0m\u001b[0;34m,\u001b[0m\u001b[0;36m16\u001b[0m\u001b[0;34m)\u001b[0m\u001b[0;34m)\u001b[0m\u001b[0;34m\u001b[0m\u001b[0;34m\u001b[0m\u001b[0m\n\u001b[1;32m      3\u001b[0m \u001b[0mprint\u001b[0m\u001b[0;34m(\u001b[0m\u001b[0mZ\u001b[0m\u001b[0;34m)\u001b[0m\u001b[0;34m\u001b[0m\u001b[0;34m\u001b[0m\u001b[0m\n",
            "\u001b[0;32m/usr/local/lib/python3.7/dist-packages/numpy/core/arrayprint.py\u001b[0m in \u001b[0;36mset_printoptions\u001b[0;34m(precision, threshold, edgeitems, linewidth, suppress, nanstr, infstr, formatter, sign, floatmode, legacy)\u001b[0m\n\u001b[1;32m    252\u001b[0m     opt = _make_options_dict(precision, threshold, edgeitems, linewidth,\n\u001b[1;32m    253\u001b[0m                              \u001b[0msuppress\u001b[0m\u001b[0;34m,\u001b[0m \u001b[0mnanstr\u001b[0m\u001b[0;34m,\u001b[0m \u001b[0minfstr\u001b[0m\u001b[0;34m,\u001b[0m \u001b[0msign\u001b[0m\u001b[0;34m,\u001b[0m \u001b[0mformatter\u001b[0m\u001b[0;34m,\u001b[0m\u001b[0;34m\u001b[0m\u001b[0;34m\u001b[0m\u001b[0m\n\u001b[0;32m--> 254\u001b[0;31m                              floatmode, legacy)\n\u001b[0m\u001b[1;32m    255\u001b[0m     \u001b[0;31m# formatter is always reset\u001b[0m\u001b[0;34m\u001b[0m\u001b[0;34m\u001b[0m\u001b[0;34m\u001b[0m\u001b[0m\n\u001b[1;32m    256\u001b[0m     \u001b[0mopt\u001b[0m\u001b[0;34m[\u001b[0m\u001b[0;34m'formatter'\u001b[0m\u001b[0;34m]\u001b[0m \u001b[0;34m=\u001b[0m \u001b[0mformatter\u001b[0m\u001b[0;34m\u001b[0m\u001b[0;34m\u001b[0m\u001b[0m\n",
            "\u001b[0;32m/usr/local/lib/python3.7/dist-packages/numpy/core/arrayprint.py\u001b[0m in \u001b[0;36m_make_options_dict\u001b[0;34m(precision, threshold, edgeitems, linewidth, suppress, nanstr, infstr, sign, formatter, floatmode, legacy)\u001b[0m\n\u001b[1;32m     86\u001b[0m             \u001b[0;32mraise\u001b[0m \u001b[0mTypeError\u001b[0m\u001b[0;34m(\u001b[0m\u001b[0;34m\"threshold must be numeric\"\u001b[0m\u001b[0;34m)\u001b[0m\u001b[0;34m\u001b[0m\u001b[0;34m\u001b[0m\u001b[0m\n\u001b[1;32m     87\u001b[0m         \u001b[0;32mif\u001b[0m \u001b[0mnp\u001b[0m\u001b[0;34m.\u001b[0m\u001b[0misnan\u001b[0m\u001b[0;34m(\u001b[0m\u001b[0mthreshold\u001b[0m\u001b[0;34m)\u001b[0m\u001b[0;34m:\u001b[0m\u001b[0;34m\u001b[0m\u001b[0;34m\u001b[0m\u001b[0m\n\u001b[0;32m---> 88\u001b[0;31m             raise ValueError(\"threshold must be non-NAN, try \"\n\u001b[0m\u001b[1;32m     89\u001b[0m                              \"sys.maxsize for untruncated representation\")\n\u001b[1;32m     90\u001b[0m \u001b[0;34m\u001b[0m\u001b[0m\n",
            "\u001b[0;31mValueError\u001b[0m: threshold must be non-NAN, try sys.maxsize for untruncated representation"
          ]
        }
      ],
      "source": [
        "np.set_printoptions(threshold=np.nan)\n",
        "Z = np.zeros((16,16))\n",
        "print(Z)"
      ]
    },
    {
      "cell_type": "markdown",
      "metadata": {
        "id": "T4VzsMV9Nv65"
      },
      "source": [
        "#### 50. How to find the closest value (to a given scalar) in a vector? (★★☆) \n",
        "(**hint**: argmin)"
      ]
    },
    {
      "cell_type": "code",
      "execution_count": null,
      "metadata": {
        "id": "qrkvLxXhNv66",
        "colab": {
          "base_uri": "https://localhost:8080/"
        },
        "outputId": "050c9a5c-ab53-4d6c-e0c3-808b5f8d497f"
      },
      "outputs": [
        {
          "output_type": "stream",
          "name": "stdout",
          "text": [
            "96\n"
          ]
        }
      ],
      "source": [
        "Z = np.arange(100)\n",
        "v = np.random.uniform(0,100)\n",
        "index = (np.abs(Z-v)).argmin()\n",
        "print(Z[index])"
      ]
    },
    {
      "cell_type": "markdown",
      "metadata": {
        "id": "DrD1KI7cNv66"
      },
      "source": [
        "#### 51. Create a structured array representing a position (x,y) and a color (r,g,b) (★★☆) \n",
        "(**hint**: dtype)"
      ]
    },
    {
      "cell_type": "code",
      "execution_count": null,
      "metadata": {
        "id": "WAgWa57ENv67",
        "colab": {
          "base_uri": "https://localhost:8080/"
        },
        "outputId": "1df79c54-b02e-4eca-f42a-078bfa3746d1"
      },
      "outputs": [
        {
          "output_type": "stream",
          "name": "stdout",
          "text": [
            "[((0., 0.), (0., 0., 0.)) ((0., 0.), (0., 0., 0.))\n",
            " ((0., 0.), (0., 0., 0.)) ((0., 0.), (0., 0., 0.))\n",
            " ((0., 0.), (0., 0., 0.)) ((0., 0.), (0., 0., 0.))\n",
            " ((0., 0.), (0., 0., 0.)) ((0., 0.), (0., 0., 0.))\n",
            " ((0., 0.), (0., 0., 0.)) ((0., 0.), (0., 0., 0.))]\n"
          ]
        },
        {
          "output_type": "stream",
          "name": "stderr",
          "text": [
            "/usr/local/lib/python3.7/dist-packages/ipykernel_launcher.py:5: FutureWarning: Passing (type, 1) or '1type' as a synonym of type is deprecated; in a future version of numpy, it will be understood as (type, (1,)) / '(1,)type'.\n",
            "  \"\"\"\n"
          ]
        }
      ],
      "source": [
        "Z = np.zeros(10, [ ('position', [ ('x', float, 1),\n",
        "                                  ('y', float, 1)]),\n",
        "                   ('color',    [ ('r', float, 1),\n",
        "                                  ('g', float, 1),\n",
        "                                  ('b', float, 1)])])\n",
        "print(Z)"
      ]
    },
    {
      "cell_type": "markdown",
      "metadata": {
        "id": "BDDTwOxNNv68"
      },
      "source": [
        "#### 52. Consider a random vector with shape (100,2) representing coordinates, find point by point distances (★★☆) \n",
        "(**hint**: np.atleast\\_2d, T, np.sqrt)"
      ]
    },
    {
      "cell_type": "code",
      "execution_count": null,
      "metadata": {
        "id": "TXvmO6hMNv69",
        "colab": {
          "base_uri": "https://localhost:8080/"
        },
        "outputId": "7c0b899e-e274-48c2-f9a8-18868fb22575"
      },
      "outputs": [
        {
          "output_type": "stream",
          "name": "stdout",
          "text": [
            "[[0.         0.3661865  0.51303558 0.53154848 0.42756059 0.39232258\n",
            "  0.37345911 0.81154048 0.56304605 0.42966447]\n",
            " [0.3661865  0.         0.65144488 0.21334463 0.5067342  0.184782\n",
            "  0.56391919 0.6539746  0.37371239 0.35733648]\n",
            " [0.51303558 0.65144488 0.         0.64727609 0.15052944 0.50469214\n",
            "  0.14515285 0.55063819 0.48376556 0.34302801]\n",
            " [0.53154848 0.21334463 0.64727609 0.         0.49745168 0.16178118\n",
            "  0.6043369  0.480041   0.22386109 0.30531553]\n",
            " [0.42756059 0.5067342  0.15052944 0.49745168 0.         0.35442003\n",
            "  0.15164351 0.47126153 0.34688333 0.19506798]\n",
            " [0.39232258 0.184782   0.50469214 0.16178118 0.35442003 0.\n",
            "  0.44725599 0.48127996 0.20126422 0.17954075]\n",
            " [0.37345911 0.56391919 0.14515285 0.6043369  0.15164351 0.44725599\n",
            "  0.         0.6217162  0.48594534 0.32263234]\n",
            " [0.81154048 0.6539746  0.55063819 0.480041   0.47126153 0.48127996\n",
            "  0.6217162  0.         0.28113606 0.38191277]\n",
            " [0.56304605 0.37371239 0.48376556 0.22386109 0.34688333 0.20126422\n",
            "  0.48594534 0.28113606 0.         0.1667429 ]\n",
            " [0.42966447 0.35733648 0.34302801 0.30531553 0.19506798 0.17954075\n",
            "  0.32263234 0.38191277 0.1667429  0.        ]]\n",
            "[[0.         0.21636326 0.58527742 0.29218039 0.27595975 0.18662345\n",
            "  0.60720046 0.05038125 0.62521598 0.34922235]\n",
            " [0.21636326 0.         0.39223365 0.19726862 0.3589525  0.07578483\n",
            "  0.50917452 0.24452017 0.52691546 0.14785704]\n",
            " [0.58527742 0.39223365 0.         0.52747308 0.74306773 0.398761\n",
            "  0.72688556 0.62481001 0.74012483 0.36083369]\n",
            " [0.29218039 0.19726862 0.52747308 0.         0.24215147 0.26409199\n",
            "  0.32528598 0.28435194 0.34343163 0.16936594]\n",
            " [0.27595975 0.3589525  0.74306773 0.24215147 0.         0.3884517\n",
            "  0.4307566  0.23163419 0.44636885 0.40275548]\n",
            " [0.18662345 0.07578483 0.398761   0.26409199 0.3884517  0.\n",
            "  0.58233027 0.22686731 0.60019752 0.21938991]\n",
            " [0.60720046 0.50917452 0.72688556 0.32528598 0.4307566  0.58233027\n",
            "  0.         0.5877641  0.01816221 0.40689189]\n",
            " [0.05038125 0.24452017 0.62481001 0.28435194 0.23163419 0.22686731\n",
            "  0.5877641  0.         0.60555049 0.36555796]\n",
            " [0.62521598 0.52691546 0.74012483 0.34343163 0.44636885 0.60019752\n",
            "  0.01816221 0.60555049 0.         0.42328383]\n",
            " [0.34922235 0.14785704 0.36083369 0.16936594 0.40275548 0.21938991\n",
            "  0.40689189 0.36555796 0.42328383 0.        ]]\n"
          ]
        }
      ],
      "source": [
        "Z = np.random.random((10,2))\n",
        "X,Y = np.atleast_2d(Z[:,0], Z[:,1])\n",
        "D = np.sqrt( (X-X.T)**2 + (Y-Y.T)**2)\n",
        "print(D)\n",
        "\n",
        "import scipy\n",
        "import scipy.spatial\n",
        "\n",
        "Z = np.random.random((10,2))\n",
        "D = scipy.spatial.distance.cdist(Z,Z)\n",
        "print(D)"
      ]
    },
    {
      "cell_type": "markdown",
      "metadata": {
        "id": "ZKtgDYDnNv6-"
      },
      "source": [
        "#### 53. How to convert a float (32 bits) array into an integer (32 bits) in place? \n",
        "(**hint**: astype(copy=False))"
      ]
    },
    {
      "cell_type": "code",
      "execution_count": null,
      "metadata": {
        "id": "Xi821a92Nv6_",
        "colab": {
          "base_uri": "https://localhost:8080/"
        },
        "outputId": "8420da95-44b3-46ed-fbf8-3e81f258a1ae"
      },
      "outputs": [
        {
          "output_type": "stream",
          "name": "stdout",
          "text": [
            "[0 1 2 3 4 5 6 7 8 9]\n"
          ]
        }
      ],
      "source": [
        "Z = np.arange(10, dtype=np.float32)\n",
        "Z = Z.astype(np.int32, copy=False)\n",
        "print(Z)"
      ]
    },
    {
      "cell_type": "markdown",
      "metadata": {
        "id": "85ui_M1mNv7A"
      },
      "source": [
        "#### 54. How to read the following file? (★★☆) \n",
        "(**hint**: np.genfromtxt)"
      ]
    },
    {
      "cell_type": "markdown",
      "metadata": {
        "id": "qJ-vTbcKNv7A"
      },
      "source": [
        "```\n",
        "1, 2, 3, 4, 5\n",
        "6,  ,  , 7, 8\n",
        " ,  , 9,10,11\n",
        "```"
      ]
    },
    {
      "cell_type": "code",
      "execution_count": null,
      "metadata": {
        "id": "GUoEzLnBNv7B",
        "colab": {
          "base_uri": "https://localhost:8080/"
        },
        "outputId": "12402099-1140-42cc-eb56-07aee1dc811c"
      },
      "outputs": [
        {
          "output_type": "stream",
          "name": "stdout",
          "text": [
            "[[ 1  2  3  4  5]\n",
            " [ 6 -1 -1  7  8]\n",
            " [-1 -1  9 10 11]]\n"
          ]
        },
        {
          "output_type": "stream",
          "name": "stderr",
          "text": [
            "/usr/local/lib/python3.7/dist-packages/ipykernel_launcher.py:7: DeprecationWarning: `np.int` is a deprecated alias for the builtin `int`. To silence this warning, use `int` by itself. Doing this will not modify any behavior and is safe. When replacing `np.int`, you may wish to use e.g. `np.int64` or `np.int32` to specify the precision. If you wish to review your current use, check the release note link for additional information.\n",
            "Deprecated in NumPy 1.20; for more details and guidance: https://numpy.org/devdocs/release/1.20.0-notes.html#deprecations\n",
            "  import sys\n"
          ]
        }
      ],
      "source": [
        "from io import StringIO\n",
        "\n",
        "# Fake file \n",
        "s = StringIO(\"\"\"1, 2, 3, 4, 5\\n\n",
        "                6,  ,  , 7, 8\\n\n",
        "                 ,  , 9,10,11\\n\"\"\")\n",
        "Z = np.genfromtxt(s, delimiter=\",\", dtype=np.int)\n",
        "print(Z)"
      ]
    },
    {
      "cell_type": "markdown",
      "metadata": {
        "id": "W879oB2UNv7C"
      },
      "source": [
        "#### 55. What is the equivalent of enumerate for numpy arrays? (★★☆) \n",
        "(**hint**: np.ndenumerate, np.ndindex)"
      ]
    },
    {
      "cell_type": "code",
      "execution_count": null,
      "metadata": {
        "id": "z3kpZ4dINv7D",
        "colab": {
          "base_uri": "https://localhost:8080/"
        },
        "outputId": "8a9311d0-6f55-48ca-db59-1a7dfb0a459c"
      },
      "outputs": [
        {
          "output_type": "stream",
          "name": "stdout",
          "text": [
            "(0, 0) 0\n",
            "(0, 1) 1\n",
            "(0, 2) 2\n",
            "(1, 0) 3\n",
            "(1, 1) 4\n",
            "(1, 2) 5\n",
            "(2, 0) 6\n",
            "(2, 1) 7\n",
            "(2, 2) 8\n",
            "(0, 0) 0\n",
            "(0, 1) 1\n",
            "(0, 2) 2\n",
            "(1, 0) 3\n",
            "(1, 1) 4\n",
            "(1, 2) 5\n",
            "(2, 0) 6\n",
            "(2, 1) 7\n",
            "(2, 2) 8\n"
          ]
        }
      ],
      "source": [
        "Z = np.arange(9).reshape(3,3)\n",
        "for index, value in np.ndenumerate(Z):\n",
        "    print(index, value)\n",
        "for index in np.ndindex(Z.shape):\n",
        "    print(index, Z[index])"
      ]
    },
    {
      "cell_type": "markdown",
      "metadata": {
        "id": "1yxpPvKONv7D"
      },
      "source": [
        "#### 56. Generate a generic 2D Gaussian-like array (★★☆) \n",
        "(**hint**: np.meshgrid, np.exp)"
      ]
    },
    {
      "cell_type": "code",
      "execution_count": null,
      "metadata": {
        "id": "LQbr9NtlNv7E",
        "colab": {
          "base_uri": "https://localhost:8080/"
        },
        "outputId": "3b8b1f50-8915-4dd4-93bf-baf7ec38c204"
      },
      "outputs": [
        {
          "output_type": "stream",
          "name": "stdout",
          "text": [
            "[[0.36787944 0.44822088 0.51979489 0.57375342 0.60279818 0.60279818\n",
            "  0.57375342 0.51979489 0.44822088 0.36787944]\n",
            " [0.44822088 0.54610814 0.63331324 0.69905581 0.73444367 0.73444367\n",
            "  0.69905581 0.63331324 0.54610814 0.44822088]\n",
            " [0.51979489 0.63331324 0.73444367 0.81068432 0.85172308 0.85172308\n",
            "  0.81068432 0.73444367 0.63331324 0.51979489]\n",
            " [0.57375342 0.69905581 0.81068432 0.89483932 0.9401382  0.9401382\n",
            "  0.89483932 0.81068432 0.69905581 0.57375342]\n",
            " [0.60279818 0.73444367 0.85172308 0.9401382  0.98773022 0.98773022\n",
            "  0.9401382  0.85172308 0.73444367 0.60279818]\n",
            " [0.60279818 0.73444367 0.85172308 0.9401382  0.98773022 0.98773022\n",
            "  0.9401382  0.85172308 0.73444367 0.60279818]\n",
            " [0.57375342 0.69905581 0.81068432 0.89483932 0.9401382  0.9401382\n",
            "  0.89483932 0.81068432 0.69905581 0.57375342]\n",
            " [0.51979489 0.63331324 0.73444367 0.81068432 0.85172308 0.85172308\n",
            "  0.81068432 0.73444367 0.63331324 0.51979489]\n",
            " [0.44822088 0.54610814 0.63331324 0.69905581 0.73444367 0.73444367\n",
            "  0.69905581 0.63331324 0.54610814 0.44822088]\n",
            " [0.36787944 0.44822088 0.51979489 0.57375342 0.60279818 0.60279818\n",
            "  0.57375342 0.51979489 0.44822088 0.36787944]]\n"
          ]
        }
      ],
      "source": [
        "X, Y = np.meshgrid(np.linspace(-1,1,10), np.linspace(-1,1,10))\n",
        "D = np.sqrt(X*X+Y*Y)\n",
        "sigma, mu = 1.0, 0.0\n",
        "G = np.exp(-( (D-mu)**2 / ( 2.0 * sigma**2 ) ) )\n",
        "print(G)"
      ]
    },
    {
      "cell_type": "markdown",
      "metadata": {
        "id": "Rn9rvBVTNv7F"
      },
      "source": [
        "#### 57. How to randomly place p elements in a 2D array? (★★☆) \n",
        "(**hint**: np.put, np.random.choice)"
      ]
    },
    {
      "cell_type": "code",
      "execution_count": null,
      "metadata": {
        "id": "YgTQQw97Nv7F",
        "colab": {
          "base_uri": "https://localhost:8080/"
        },
        "outputId": "dbadaf5a-dd51-41a8-85df-277cdc3abff3"
      },
      "outputs": [
        {
          "output_type": "stream",
          "name": "stdout",
          "text": [
            "[[0. 0. 0. 0. 0. 0. 0. 0. 0. 0.]\n",
            " [0. 0. 0. 0. 0. 0. 0. 0. 0. 0.]\n",
            " [0. 0. 0. 0. 0. 0. 0. 0. 0. 0.]\n",
            " [0. 1. 0. 0. 0. 0. 1. 0. 0. 0.]\n",
            " [0. 0. 0. 0. 0. 0. 0. 0. 0. 0.]\n",
            " [0. 0. 0. 0. 0. 0. 0. 0. 0. 0.]\n",
            " [0. 0. 0. 0. 0. 0. 0. 1. 0. 0.]\n",
            " [0. 0. 0. 0. 0. 0. 0. 0. 0. 0.]\n",
            " [0. 0. 0. 0. 0. 0. 0. 0. 0. 0.]\n",
            " [0. 0. 0. 0. 0. 0. 0. 0. 0. 0.]]\n"
          ]
        }
      ],
      "source": [
        "n = 10\n",
        "p = 3\n",
        "Z = np.zeros((n,n))\n",
        "np.put(Z, np.random.choice(range(n*n), p, replace=False),1)\n",
        "print(Z)"
      ]
    },
    {
      "cell_type": "markdown",
      "metadata": {
        "id": "AXlIp_K1Nv7G"
      },
      "source": [
        "#### 58. Subtract the mean of each row of a matrix (★★☆) \n",
        "(**hint**: mean(axis=,keepdims=))"
      ]
    },
    {
      "cell_type": "code",
      "execution_count": null,
      "metadata": {
        "id": "QjN3HXVFNv7H",
        "colab": {
          "base_uri": "https://localhost:8080/"
        },
        "outputId": "790e62c5-d268-4780-a008-5ec1126ecb13"
      },
      "outputs": [
        {
          "output_type": "stream",
          "name": "stdout",
          "text": [
            "[[-0.49088412 -0.22142198  0.06427989 -0.42849576 -0.1942582   0.34984744\n",
            "  -0.35411199  0.46163634  0.48006478  0.33334359]\n",
            " [ 0.24068239 -0.40306111 -0.41992044  0.41817621  0.08814194 -0.14134966\n",
            "   0.42837131 -0.0074664   0.1352432  -0.33881744]\n",
            " [-0.2090768  -0.26899206 -0.05637604  0.0761281  -0.24608165  0.35816941\n",
            "   0.18775767  0.28752474 -0.16620149  0.03714812]\n",
            " [ 0.01192611  0.49140879 -0.09687076 -0.07849396 -0.30785918 -0.2468293\n",
            "  -0.3204401   0.08131407  0.25826881  0.20757552]\n",
            " [-0.2970139   0.17577848 -0.11384011 -0.11387148 -0.31627656 -0.05116391\n",
            "   0.54251752  0.04944398 -0.18297858  0.30740455]]\n"
          ]
        }
      ],
      "source": [
        "X = np.random.rand(5, 10)\n",
        "\n",
        "Y = X - X.mean(axis=1, keepdims=True)\n",
        "\n",
        "Y = X - X.mean(axis=1).reshape(-1, 1)\n",
        "\n",
        "print(Y)"
      ]
    },
    {
      "cell_type": "markdown",
      "metadata": {
        "id": "u07yr9X1Nv7I"
      },
      "source": [
        "#### 59. How to sort an array by the nth column? (★★☆) \n",
        "(**hint**: argsort)"
      ]
    },
    {
      "cell_type": "code",
      "execution_count": null,
      "metadata": {
        "id": "qAFu6PaDNv7J",
        "colab": {
          "base_uri": "https://localhost:8080/"
        },
        "outputId": "566366a0-e1fc-4306-abad-91812840ce3a"
      },
      "outputs": [
        {
          "output_type": "stream",
          "name": "stdout",
          "text": [
            "[[9 0 3]\n",
            " [8 0 0]\n",
            " [0 6 3]]\n",
            "[[9 0 3]\n",
            " [8 0 0]\n",
            " [0 6 3]]\n"
          ]
        }
      ],
      "source": [
        "Z = np.random.randint(0,10,(3,3))\n",
        "print(Z)\n",
        "print(Z[Z[:,1].argsort()])"
      ]
    },
    {
      "cell_type": "markdown",
      "metadata": {
        "id": "xle5YJT2Nv7J"
      },
      "source": [
        "#### 60. How to tell if a given 2D array has null columns? (★★☆) \n",
        "(**hint**: any, ~)"
      ]
    },
    {
      "cell_type": "code",
      "execution_count": null,
      "metadata": {
        "id": "WLCyDGOPNv7K",
        "colab": {
          "base_uri": "https://localhost:8080/"
        },
        "outputId": "0ebda694-47a6-445f-cd6f-b4e7ecafa5c2"
      },
      "outputs": [
        {
          "output_type": "stream",
          "name": "stdout",
          "text": [
            "False\n"
          ]
        }
      ],
      "source": [
        "Z = np.random.randint(0,3,(3,10))\n",
        "print((~Z.any(axis=0)).any())"
      ]
    },
    {
      "cell_type": "markdown",
      "metadata": {
        "id": "gGVTnDBJNv7K"
      },
      "source": [
        "#### 61. Find the nearest value from a given value in an array (★★☆) \n",
        "(**hint**: np.abs, argmin, flat)"
      ]
    },
    {
      "cell_type": "code",
      "execution_count": null,
      "metadata": {
        "id": "luipa_WgNv7L",
        "colab": {
          "base_uri": "https://localhost:8080/"
        },
        "outputId": "890520d0-8d27-4aea-f35e-b27bdbde8858"
      },
      "outputs": [
        {
          "output_type": "stream",
          "name": "stdout",
          "text": [
            "0.5905305304060248\n"
          ]
        }
      ],
      "source": [
        "Z = np.random.uniform(0,1,10)\n",
        "z = 0.5\n",
        "m = Z.flat[np.abs(Z - z).argmin()]\n",
        "print(m)"
      ]
    },
    {
      "cell_type": "markdown",
      "metadata": {
        "id": "Y4aIyYI6Nv7M"
      },
      "source": [
        "#### 62. Considering two arrays with shape (1,3) and (3,1), how to compute their sum using an iterator? (★★☆) \n",
        "(**hint**: np.nditer)"
      ]
    },
    {
      "cell_type": "code",
      "execution_count": null,
      "metadata": {
        "id": "20MnaZsBNv7M",
        "colab": {
          "base_uri": "https://localhost:8080/"
        },
        "outputId": "f2e2a809-f305-4779-b098-ba0b4730a8c6"
      },
      "outputs": [
        {
          "output_type": "stream",
          "name": "stdout",
          "text": [
            "[[0 1 2]\n",
            " [1 2 3]\n",
            " [2 3 4]]\n"
          ]
        }
      ],
      "source": [
        "A = np.arange(3).reshape(3,1)\n",
        "B = np.arange(3).reshape(1,3)\n",
        "it = np.nditer([A,B,None])\n",
        "for x,y,z in it: z[...] = x + y\n",
        "print(it.operands[2])"
      ]
    },
    {
      "cell_type": "markdown",
      "metadata": {
        "id": "rRpxzdxKNv7N"
      },
      "source": [
        "#### 63. Create an array class that has a name attribute (★★☆) \n",
        "(**hint**: class method)"
      ]
    },
    {
      "cell_type": "code",
      "execution_count": null,
      "metadata": {
        "id": "pRG9JSttNv7O",
        "colab": {
          "base_uri": "https://localhost:8080/"
        },
        "outputId": "5ccd46de-9987-4e60-f034-51f94c06fb81"
      },
      "outputs": [
        {
          "output_type": "stream",
          "name": "stdout",
          "text": [
            "range_10\n"
          ]
        }
      ],
      "source": [
        "class NamedArray(np.ndarray):\n",
        "    def __new__(cls, array, name=\"no name\"):\n",
        "        obj = np.asarray(array).view(cls)\n",
        "        obj.name = name\n",
        "        return obj\n",
        "    def __array_finalize__(self, obj):\n",
        "        if obj is None: return\n",
        "        self.info = getattr(obj, 'name', \"no name\")\n",
        "\n",
        "Z = NamedArray(np.arange(10), \"range_10\")\n",
        "print (Z.name)"
      ]
    },
    {
      "cell_type": "markdown",
      "metadata": {
        "id": "a29vB2XeNv7O"
      },
      "source": [
        "#### 64. Consider a given vector, how to add 1 to each element indexed by a second vector (be careful with repeated indices)? (★★★) \n",
        "(**hint**: np.bincount | np.add.at)"
      ]
    },
    {
      "cell_type": "code",
      "execution_count": null,
      "metadata": {
        "id": "c391b3dCNv7P",
        "colab": {
          "base_uri": "https://localhost:8080/"
        },
        "outputId": "61663cd4-607f-418f-cb2c-df579212e577"
      },
      "outputs": [
        {
          "output_type": "stream",
          "name": "stdout",
          "text": [
            "[1. 1. 5. 3. 2. 3. 8. 3. 2. 2.]\n",
            "[ 1.  1.  9.  5.  3.  5. 15.  5.  3.  3.]\n"
          ]
        }
      ],
      "source": [
        "Z = np.ones(10)\n",
        "I = np.random.randint(0,len(Z),20)\n",
        "Z += np.bincount(I, minlength=len(Z))\n",
        "print(Z)\n",
        "\n",
        "np.add.at(Z, I, 1)\n",
        "print(Z)"
      ]
    },
    {
      "cell_type": "markdown",
      "metadata": {
        "id": "oJqOzC9CNv7Q"
      },
      "source": [
        "#### 65. How to accumulate elements of a vector (X) to an array (F) based on an index list (I)? (★★★) \n",
        "(**hint**: np.bincount)"
      ]
    },
    {
      "cell_type": "code",
      "execution_count": null,
      "metadata": {
        "id": "r6VEzyERNv7Q",
        "colab": {
          "base_uri": "https://localhost:8080/"
        },
        "outputId": "8b9aef88-ed67-4c9d-95b2-b053c7541f0b"
      },
      "outputs": [
        {
          "output_type": "stream",
          "name": "stdout",
          "text": [
            "[0. 7. 0. 6. 5. 0. 0. 0. 0. 3.]\n"
          ]
        }
      ],
      "source": [
        "X = [1,2,3,4,5,6]\n",
        "I = [1,3,9,3,4,1]\n",
        "F = np.bincount(I,X)\n",
        "print(F)"
      ]
    },
    {
      "cell_type": "markdown",
      "metadata": {
        "id": "IO3XZk1-Nv7R"
      },
      "source": [
        "#### 66. Considering a (w,h,3) image of (dtype=ubyte), compute the number of unique colors (★★★) \n",
        "(**hint**: np.unique)"
      ]
    },
    {
      "cell_type": "code",
      "execution_count": null,
      "metadata": {
        "id": "mGObNJOINv7S",
        "colab": {
          "base_uri": "https://localhost:8080/"
        },
        "outputId": "bb3e0d56-c20f-4501-d4be-927b8298e676"
      },
      "outputs": [
        {
          "output_type": "stream",
          "name": "stdout",
          "text": [
            "8\n"
          ]
        }
      ],
      "source": [
        "w,h = 16,16\n",
        "I = np.random.randint(0,2,(h,w,3)).astype(np.ubyte)\n",
        "\n",
        "F = I[...,0]*(256*256) + I[...,1]*256 +I[...,2]\n",
        "n = len(np.unique(F))\n",
        "print(n)"
      ]
    },
    {
      "cell_type": "markdown",
      "metadata": {
        "id": "5agD45OnNv7T"
      },
      "source": [
        "#### 67. Considering a four dimensions array, how to get sum over the last two axis at once? (★★★) \n",
        "(**hint**: sum(axis=(-2,-1)))"
      ]
    },
    {
      "cell_type": "code",
      "execution_count": null,
      "metadata": {
        "id": "JTR4Y9DdNv7T",
        "colab": {
          "base_uri": "https://localhost:8080/"
        },
        "outputId": "1c954768-359f-426a-cdb9-66a9bc5b6ec7"
      },
      "outputs": [
        {
          "output_type": "stream",
          "name": "stdout",
          "text": [
            "[[45 60 65 60]\n",
            " [47 48 50 44]\n",
            " [65 75 50 60]]\n",
            "[[45 60 65 60]\n",
            " [47 48 50 44]\n",
            " [65 75 50 60]]\n"
          ]
        }
      ],
      "source": [
        "A = np.random.randint(0,10,(3,4,3,4))\n",
        "\n",
        "sum = A.sum(axis=(-2,-1))\n",
        "print(sum)\n",
        "\n",
        "sum = A.reshape(A.shape[:-2] + (-1,)).sum(axis=-1)\n",
        "print(sum)"
      ]
    },
    {
      "cell_type": "markdown",
      "metadata": {
        "id": "FNeTH1CYNv7U"
      },
      "source": [
        "#### 68. Considering a one-dimensional vector D, how to compute means of subsets of D using a vector S of same size describing subset  indices? (★★★) \n",
        "(**hint**: np.bincount)"
      ]
    },
    {
      "cell_type": "code",
      "execution_count": null,
      "metadata": {
        "id": "L8JaMpkuNv7V",
        "colab": {
          "base_uri": "https://localhost:8080/"
        },
        "outputId": "3195d8a0-2de9-4609-fe6d-3482767814d9"
      },
      "outputs": [
        {
          "output_type": "stream",
          "name": "stdout",
          "text": [
            "[0.43731351 0.40369635 0.56030143 0.68086812 0.47627207 0.48972183\n",
            " 0.44058297 0.60808793 0.57970965 0.55763695]\n",
            "0    0.437314\n",
            "1    0.403696\n",
            "2    0.560301\n",
            "3    0.680868\n",
            "4    0.476272\n",
            "5    0.489722\n",
            "6    0.440583\n",
            "7    0.608088\n",
            "8    0.579710\n",
            "9    0.557637\n",
            "dtype: float64\n"
          ]
        }
      ],
      "source": [
        "D = np.random.uniform(0,1,100)\n",
        "S = np.random.randint(0,10,100)\n",
        "D_sums = np.bincount(S, weights=D)\n",
        "D_counts = np.bincount(S)\n",
        "D_means = D_sums / D_counts\n",
        "print(D_means)\n",
        "\n",
        "import pandas as pd\n",
        "print(pd.Series(D).groupby(S).mean())"
      ]
    },
    {
      "cell_type": "markdown",
      "metadata": {
        "id": "B5NWsJooNv7W"
      },
      "source": [
        "#### 69. How to get the diagonal of a dot product? (★★★) \n",
        "(**hint**: np.diag)"
      ]
    },
    {
      "cell_type": "code",
      "execution_count": null,
      "metadata": {
        "id": "nhd-XQ5ZNv7W",
        "colab": {
          "base_uri": "https://localhost:8080/"
        },
        "outputId": "5431825f-3de0-419d-a0c5-f717268f78d3"
      },
      "outputs": [
        {
          "output_type": "stream",
          "name": "stdout",
          "text": [
            "[1.64266965 0.76570365 2.33313619 0.89929679 1.35787731]\n"
          ]
        }
      ],
      "source": [
        "A = np.random.uniform(0,1,(5,5))\n",
        "B = np.random.uniform(0,1,(5,5))\n",
        "\n",
        "print(np.diag(np.dot(A, B)))"
      ]
    },
    {
      "cell_type": "markdown",
      "metadata": {
        "id": "Z-5-rydONv7X"
      },
      "source": [
        "#### 70. Consider the vector \\[1, 2, 3, 4, 5\\], how to build a new vector with 3 consecutive zeros interleaved between each value? (★★★) \n",
        "(**hint**: array\\[::4\\])"
      ]
    },
    {
      "cell_type": "code",
      "execution_count": null,
      "metadata": {
        "id": "KVokVbY9Nv7Y",
        "colab": {
          "base_uri": "https://localhost:8080/"
        },
        "outputId": "2332dadc-d21e-4406-e66e-8d5bed609f68"
      },
      "outputs": [
        {
          "output_type": "stream",
          "name": "stdout",
          "text": [
            "[1. 0. 0. 0. 2. 0. 0. 0. 3. 0. 0. 0. 4. 0. 0. 0. 5.]\n"
          ]
        }
      ],
      "source": [
        "Z = np.array([1,2,3,4,5])\n",
        "nz = 3\n",
        "Z0 = np.zeros(len(Z) + (len(Z)-1)*(nz))\n",
        "Z0[::nz+1] = Z\n",
        "print(Z0)"
      ]
    },
    {
      "cell_type": "markdown",
      "metadata": {
        "id": "b5qpUa-yNv7Z"
      },
      "source": [
        "#### 71. Consider an array of dimension (5,5,3), how to mulitply it by an array with dimensions (5,5)? (★★★) \n",
        "(**hint**: array\\[:, :, None\\])"
      ]
    },
    {
      "cell_type": "code",
      "execution_count": null,
      "metadata": {
        "collapsed": true,
        "id": "9eplxoliNv7a",
        "colab": {
          "base_uri": "https://localhost:8080/"
        },
        "outputId": "a503ee7d-8635-4cfe-a1b8-585de7955841"
      },
      "outputs": [
        {
          "output_type": "stream",
          "name": "stdout",
          "text": [
            "[[[2. 2. 2.]\n",
            "  [2. 2. 2.]\n",
            "  [2. 2. 2.]\n",
            "  [2. 2. 2.]\n",
            "  [2. 2. 2.]]\n",
            "\n",
            " [[2. 2. 2.]\n",
            "  [2. 2. 2.]\n",
            "  [2. 2. 2.]\n",
            "  [2. 2. 2.]\n",
            "  [2. 2. 2.]]\n",
            "\n",
            " [[2. 2. 2.]\n",
            "  [2. 2. 2.]\n",
            "  [2. 2. 2.]\n",
            "  [2. 2. 2.]\n",
            "  [2. 2. 2.]]\n",
            "\n",
            " [[2. 2. 2.]\n",
            "  [2. 2. 2.]\n",
            "  [2. 2. 2.]\n",
            "  [2. 2. 2.]\n",
            "  [2. 2. 2.]]\n",
            "\n",
            " [[2. 2. 2.]\n",
            "  [2. 2. 2.]\n",
            "  [2. 2. 2.]\n",
            "  [2. 2. 2.]\n",
            "  [2. 2. 2.]]]\n"
          ]
        }
      ],
      "source": [
        "A = np.ones((5,5,3))\n",
        "B = 2*np.ones((5,5))\n",
        "print(A * B[:,:,None])"
      ]
    },
    {
      "cell_type": "markdown",
      "metadata": {
        "id": "LiUUUnczNv7a"
      },
      "source": [
        "#### 72. How to swap two rows of an array? (★★★) \n",
        "(**hint**: array\\[\\[\\]\\] = array\\[\\[\\]\\])"
      ]
    },
    {
      "cell_type": "code",
      "execution_count": null,
      "metadata": {
        "id": "YLOHVGQsNv7c",
        "colab": {
          "base_uri": "https://localhost:8080/"
        },
        "outputId": "6fed4913-efe8-4112-8dcf-d74224beaa0b"
      },
      "outputs": [
        {
          "output_type": "stream",
          "name": "stdout",
          "text": [
            "[[ 5  6  7  8  9]\n",
            " [ 0  1  2  3  4]\n",
            " [10 11 12 13 14]\n",
            " [15 16 17 18 19]\n",
            " [20 21 22 23 24]]\n"
          ]
        }
      ],
      "source": [
        "A = np.arange(25).reshape(5,5)\n",
        "A[[0,1]] = A[[1,0]]\n",
        "print(A)"
      ]
    },
    {
      "cell_type": "markdown",
      "metadata": {
        "id": "iIx_805VNv7c"
      },
      "source": [
        "#### 73. Consider a set of 10 triplets describing 10 triangles (with shared vertices), find the set of unique line segments composing all the  triangles (★★★) \n",
        "(**hint**: repeat, np.roll, np.sort, view, np.unique)"
      ]
    },
    {
      "cell_type": "code",
      "execution_count": null,
      "metadata": {
        "id": "bpJzOLNgNv7e",
        "colab": {
          "base_uri": "https://localhost:8080/"
        },
        "outputId": "abc3b0f5-87ea-4579-83a8-7314be1907a8"
      },
      "outputs": [
        {
          "output_type": "stream",
          "name": "stdout",
          "text": [
            "[( 0, 38) ( 0, 65) ( 1, 27) ( 1, 83) ( 8, 18) ( 8, 69) (11, 25) (11, 92)\n",
            " (12, 54) (12, 81) (17, 55) (17, 77) (18, 69) (25, 92) (27, 83) (32, 41)\n",
            " (32, 70) (33, 45) (33, 46) (38, 65) (41, 70) (45, 46) (53, 84) (53, 85)\n",
            " (54, 81) (55, 77) (57, 66) (57, 95) (66, 95) (84, 85)]\n"
          ]
        }
      ],
      "source": [
        "faces = np.random.randint(0,100,(10,3))\n",
        "F = np.roll(faces.repeat(2,axis=1),-1,axis=1)\n",
        "F = F.reshape(len(F)*3,2)\n",
        "F = np.sort(F,axis=1)\n",
        "G = F.view( dtype=[('p0',F.dtype),('p1',F.dtype)] )\n",
        "G = np.unique(G)\n",
        "print(G)"
      ]
    },
    {
      "cell_type": "markdown",
      "metadata": {
        "id": "5Sv-9yN8Nv7f"
      },
      "source": [
        "#### 74. Given an array C that is a bincount, how to produce an array A such that np.bincount(A) == C? (★★★) \n",
        "(**hint**: np.repeat)"
      ]
    },
    {
      "cell_type": "code",
      "execution_count": null,
      "metadata": {
        "id": "158vv8caNv7g",
        "colab": {
          "base_uri": "https://localhost:8080/"
        },
        "outputId": "def19ca3-0c0c-4a63-fe05-fe1bfe55e952"
      },
      "outputs": [
        {
          "output_type": "stream",
          "name": "stdout",
          "text": [
            "[1 1 2 3 4 4 6]\n"
          ]
        }
      ],
      "source": [
        "C = np.bincount([1,1,2,3,4,4,6])\n",
        "A = np.repeat(np.arange(len(C)), C)\n",
        "print(A)"
      ]
    },
    {
      "cell_type": "markdown",
      "metadata": {
        "id": "c-_BgwjSNv7h"
      },
      "source": [
        "#### 75. How to compute averages using a sliding window over an array? (★★★) \n",
        "(**hint**: np.cumsum)"
      ]
    },
    {
      "cell_type": "code",
      "execution_count": null,
      "metadata": {
        "id": "mQPhBHHmNv7i",
        "colab": {
          "base_uri": "https://localhost:8080/"
        },
        "outputId": "61b8ffbf-ea98-4cb6-a7e5-4a6d5bbea1d7"
      },
      "outputs": [
        {
          "output_type": "stream",
          "name": "stdout",
          "text": [
            "[ 1.  2.  3.  4.  5.  6.  7.  8.  9. 10. 11. 12. 13. 14. 15. 16. 17. 18.]\n"
          ]
        }
      ],
      "source": [
        "def moving_average(a, n=3) :\n",
        "    ret = np.cumsum(a, dtype=float)\n",
        "    ret[n:] = ret[n:] - ret[:-n]\n",
        "    return ret[n - 1:] / n\n",
        "Z = np.arange(20)\n",
        "print(moving_average(Z, n=3))"
      ]
    },
    {
      "cell_type": "markdown",
      "metadata": {
        "id": "tKFuxXRJNv7j"
      },
      "source": [
        "#### 76. Consider a one-dimensional array Z, build a two-dimensional array whose first row is (Z\\[0\\],Z\\[1\\],Z\\[2\\]) and each subsequent row is  shifted by 1 (last row should be (Z\\[-3\\],Z\\[-2\\],Z\\[-1\\]) (★★★) \n",
        "(**hint**: from numpy.lib import stride_tricks)"
      ]
    },
    {
      "cell_type": "code",
      "execution_count": null,
      "metadata": {
        "id": "8D_vG53GNv7j",
        "colab": {
          "base_uri": "https://localhost:8080/"
        },
        "outputId": "f08000e7-285b-44e0-863f-6162216a75e4"
      },
      "outputs": [
        {
          "output_type": "stream",
          "name": "stdout",
          "text": [
            "[[0 1 2]\n",
            " [1 2 3]\n",
            " [2 3 4]\n",
            " [3 4 5]\n",
            " [4 5 6]\n",
            " [5 6 7]\n",
            " [6 7 8]\n",
            " [7 8 9]]\n"
          ]
        }
      ],
      "source": [
        "from numpy.lib import stride_tricks\n",
        "\n",
        "def rolling(a, window):\n",
        "    shape = (a.size - window + 1, window)\n",
        "    strides = (a.itemsize, a.itemsize)\n",
        "    return stride_tricks.as_strided(a, shape=shape, strides=strides)\n",
        "Z = rolling(np.arange(10), 3)\n",
        "print(Z)"
      ]
    },
    {
      "cell_type": "markdown",
      "metadata": {
        "id": "gTJV9BMUNv7k"
      },
      "source": [
        "#### 77. How to negate a boolean, or to change the sign of a float inplace? (★★★) \n",
        "(**hint**: np.logical_not, np.negative)"
      ]
    },
    {
      "cell_type": "code",
      "execution_count": null,
      "metadata": {
        "id": "pIKyNhy5Nv7l",
        "colab": {
          "base_uri": "https://localhost:8080/"
        },
        "outputId": "cf920f90-0516-4ba7-dc23-7551eee9217b"
      },
      "outputs": [
        {
          "output_type": "execute_result",
          "data": {
            "text/plain": [
              "array([ 0.8780298 , -0.1447533 ,  0.93824909, -0.93869344,  0.97785526,\n",
              "       -0.71061327,  0.19651549, -0.64879115,  0.58717284,  0.54858417,\n",
              "       -0.31584214,  0.02855723,  0.34690274,  0.49989434, -0.8239778 ,\n",
              "       -0.31938052,  0.28148291, -0.25662171,  0.93004683, -0.03192023,\n",
              "        0.51453423, -0.34701365, -0.58415629, -0.1308895 ,  0.43250467,\n",
              "        0.64872069, -0.62889537,  0.29976062, -0.47954016,  0.99947082,\n",
              "        0.59645002, -0.21586472, -0.88297851,  0.35803696,  0.2474515 ,\n",
              "       -0.40597449,  0.9659564 , -0.15865315, -0.88509003,  0.28455491,\n",
              "       -0.86352528, -0.97045397, -0.23051199,  0.38784893,  0.38698104,\n",
              "       -0.60776452,  0.01548418, -0.55952086, -0.61550797,  0.98953323,\n",
              "       -0.13820486,  0.66382798,  0.15727647, -0.98381187, -0.20225688,\n",
              "       -0.40600655,  0.15007411, -0.64620188, -0.30607828, -0.09327191,\n",
              "       -0.52941708,  0.89164066,  0.80630986,  0.00396626, -0.71844465,\n",
              "       -0.65532097,  0.88266854, -0.48242928,  0.91226288,  0.9676441 ,\n",
              "        0.7706759 ,  0.12978998,  0.29305147, -0.91746958, -0.37539864,\n",
              "        0.3873084 ,  0.85252628,  0.55024971, -0.51158107, -0.12947325,\n",
              "        0.7219753 ,  0.33719835, -0.45339151, -0.03824235, -0.01967872,\n",
              "       -0.6531366 ,  0.93002887, -0.17075315,  0.95431726, -0.87967942,\n",
              "       -0.89543069, -0.04342745,  0.32604493, -0.59080748, -0.47570611,\n",
              "        0.29771738,  0.61778788, -0.43776997,  0.93389756,  0.29112463])"
            ]
          },
          "metadata": {},
          "execution_count": 78
        }
      ],
      "source": [
        "Z = np.random.randint(0,2,100)\n",
        "np.logical_not(Z, out=Z)\n",
        "\n",
        "Z = np.random.uniform(-1.0,1.0,100)\n",
        "np.negative(Z, out=Z)"
      ]
    },
    {
      "cell_type": "markdown",
      "metadata": {
        "id": "CSEfHv23Nv7l"
      },
      "source": [
        "#### 78. Consider 2 sets of points P0,P1 describing lines (2d) and a point p, how to compute distance from p to each line i  (P0\\[i\\],P1\\[i\\])? (★★★)"
      ]
    },
    {
      "cell_type": "code",
      "execution_count": null,
      "metadata": {
        "id": "gdEoV0IwNv7n",
        "colab": {
          "base_uri": "https://localhost:8080/"
        },
        "outputId": "82b9b8ab-4129-44be-8d74-496247fc3bc2"
      },
      "outputs": [
        {
          "output_type": "stream",
          "name": "stdout",
          "text": [
            "[5.21510237 8.40247328 2.41278272 7.74526284 5.76115309 4.39265057\n",
            " 5.43785452 0.44061838 0.34434706 4.62266208]\n"
          ]
        }
      ],
      "source": [
        "def distance(P0, P1, p):\n",
        "    T = P1 - P0\n",
        "    L = (T**2).sum(axis=1)\n",
        "    U = -((P0[:,0]-p[...,0])*T[:,0] + (P0[:,1]-p[...,1])*T[:,1]) / L\n",
        "    U = U.reshape(len(U),1)\n",
        "    D = P0 + U*T - p\n",
        "    return np.sqrt((D**2).sum(axis=1))\n",
        "\n",
        "P0 = np.random.uniform(-10,10,(10,2))\n",
        "P1 = np.random.uniform(-10,10,(10,2))\n",
        "p  = np.random.uniform(-10,10,( 1,2))\n",
        "print(distance(P0, P1, p))"
      ]
    },
    {
      "cell_type": "markdown",
      "metadata": {
        "id": "AlK78XmWNv7o"
      },
      "source": [
        "#### 79. Consider 2 sets of points P0,P1 describing lines (2d) and a set of points P, how to compute distance from each point j (P\\[j\\]) to each line i (P0\\[i\\],P1\\[i\\])? (★★★)"
      ]
    },
    {
      "cell_type": "code",
      "execution_count": null,
      "metadata": {
        "id": "oFq5ccnENv7p",
        "colab": {
          "base_uri": "https://localhost:8080/"
        },
        "outputId": "c45ccd9b-5abd-4253-c3f2-ba8cc9217fd8"
      },
      "outputs": [
        {
          "output_type": "stream",
          "name": "stdout",
          "text": [
            "[[13.95886687  3.83386939  5.1642635   3.23349438  2.03979345  0.69296388\n",
            "   7.82651005  6.33482906  7.82172461  2.19117688]\n",
            " [ 3.51316689  9.51704518  0.28507684  2.89789565 10.84858509  2.00271135\n",
            "  15.80156572  0.99902508 16.72427625  1.18869753]\n",
            " [ 1.16108953  7.98400866 10.77760531  8.04243254 11.25522487 12.09204694\n",
            "   5.40329377  9.62616697  6.740363   12.23429841]\n",
            " [ 2.0270201   5.18667596 17.34699462 14.65037054  9.53589181 16.9350573\n",
            "   1.19895247 16.25036244  0.21465174 18.12862274]\n",
            " [ 1.88582344  9.51535899  2.60957685  0.05879806 11.37006528  4.88577631\n",
            "  13.17123768  1.71455782 14.23825537  4.21963743]\n",
            " [10.35498152  0.20822439  4.29869845  2.14635439  2.00402632  0.90457645\n",
            "   9.52847393  4.84957799  9.84363416  2.70901956]\n",
            " [ 3.20865322 15.58794935  0.74099577  2.24933459 17.34254004  6.71968498\n",
            "  16.24441122  1.04940228 17.76373869  4.40253299]\n",
            " [ 2.54722908  9.32319515  1.77991458  0.86118342 11.02041302  3.94219394\n",
            "  13.88150381  0.96891276 14.88985291  3.28302869]\n",
            " [ 0.60601568 10.03711535  6.09899155  3.33277645 12.54298041  8.67998988\n",
            "  10.11909984  4.89836912 11.40713255  8.05791171]\n",
            " [ 1.81594459  6.35991622 14.86198123 12.14399262 10.30585932 15.17312501\n",
            "   1.32455788 13.72542937  2.71955066 15.9395218 ]]\n"
          ]
        }
      ],
      "source": [
        "P0 = np.random.uniform(-10, 10, (10,2))\n",
        "P1 = np.random.uniform(-10,10,(10,2))\n",
        "p = np.random.uniform(-10, 10, (10,2))\n",
        "print(np.array([distance(P0,P1,p_i) for p_i in p]))"
      ]
    },
    {
      "cell_type": "markdown",
      "metadata": {
        "id": "CnQDNliJNv7p"
      },
      "source": [
        "#### 80. Consider an arbitrary array, write a function that extract a subpart with a fixed shape and centered on a given element (pad with a `fill` value when necessary) (★★★) \n",
        "(**hint**: minimum, maximum)"
      ]
    },
    {
      "cell_type": "code",
      "execution_count": null,
      "metadata": {
        "id": "u3JMfBOrNv7q",
        "colab": {
          "base_uri": "https://localhost:8080/"
        },
        "outputId": "8ac568f9-ed1e-4835-c6c4-4405e3dbacf4"
      },
      "outputs": [
        {
          "output_type": "stream",
          "name": "stdout",
          "text": [
            "[[2 7 1 7 0 6 9 3 6 9]\n",
            " [1 2 8 9 0 2 3 7 1 9]\n",
            " [3 8 6 4 5 3 1 0 7 3]\n",
            " [0 9 9 7 3 6 1 0 5 1]\n",
            " [7 5 5 5 6 5 4 4 2 2]\n",
            " [0 2 5 9 7 7 7 9 3 3]\n",
            " [5 1 2 5 0 3 9 1 6 1]\n",
            " [7 6 5 1 2 4 1 4 5 2]\n",
            " [5 1 2 8 9 3 0 3 7 3]\n",
            " [4 5 6 4 5 7 3 2 5 2]]\n",
            "[[0 0 0 0 0]\n",
            " [0 2 7 1 7]\n",
            " [0 1 2 8 9]\n",
            " [0 3 8 6 4]\n",
            " [0 0 9 9 7]]\n"
          ]
        },
        {
          "output_type": "stream",
          "name": "stderr",
          "text": [
            "/usr/local/lib/python3.7/dist-packages/ipykernel_launcher.py:23: FutureWarning: Using a non-tuple sequence for multidimensional indexing is deprecated; use `arr[tuple(seq)]` instead of `arr[seq]`. In the future this will be interpreted as an array index, `arr[np.array(seq)]`, which will result either in an error or a different result.\n"
          ]
        }
      ],
      "source": [
        "Z = np.random.randint(0,10,(10,10))\n",
        "shape = (5,5)\n",
        "fill  = 0\n",
        "position = (1,1)\n",
        "\n",
        "R = np.ones(shape, dtype=Z.dtype)*fill\n",
        "P  = np.array(list(position)).astype(int)\n",
        "Rs = np.array(list(R.shape)).astype(int)\n",
        "Zs = np.array(list(Z.shape)).astype(int)\n",
        "\n",
        "R_start = np.zeros((len(shape),)).astype(int)\n",
        "R_stop  = np.array(list(shape)).astype(int)\n",
        "Z_start = (P-Rs//2)\n",
        "Z_stop  = (P+Rs//2)+Rs%2\n",
        "\n",
        "R_start = (R_start - np.minimum(Z_start,0)).tolist()\n",
        "Z_start = (np.maximum(Z_start,0)).tolist()\n",
        "R_stop = np.maximum(R_start, (R_stop - np.maximum(Z_stop-Zs,0))).tolist()\n",
        "Z_stop = (np.minimum(Z_stop,Zs)).tolist()\n",
        "\n",
        "r = [slice(start,stop) for start,stop in zip(R_start,R_stop)]\n",
        "z = [slice(start,stop) for start,stop in zip(Z_start,Z_stop)]\n",
        "R[r] = Z[z]\n",
        "print(Z)\n",
        "print(R)"
      ]
    },
    {
      "cell_type": "markdown",
      "metadata": {
        "id": "vytKPppkNv7r"
      },
      "source": [
        "#### 81. Consider an array Z = \\[1,2,3,4,5,6,7,8,9,10,11,12,13,14\\], how to generate an array R = \\[\\[1,2,3,4\\], \\[2,3,4,5\\], \\[3,4,5,6\\], ..., \\[11,12,13,14\\]\\]? (★★★) \n",
        "(**hint**: stride\\_tricks.as\\_strided)"
      ]
    },
    {
      "cell_type": "code",
      "execution_count": null,
      "metadata": {
        "id": "7Dh00WgeNv7s",
        "colab": {
          "base_uri": "https://localhost:8080/"
        },
        "outputId": "13fdc7ce-4b2d-4915-c1d1-fa0948e4c80d"
      },
      "outputs": [
        {
          "output_type": "stream",
          "name": "stdout",
          "text": [
            "[[ 1  2  3  4]\n",
            " [ 2  3  4  5]\n",
            " [ 3  4  5  6]\n",
            " [ 4  5  6  7]\n",
            " [ 5  6  7  8]\n",
            " [ 6  7  8  9]\n",
            " [ 7  8  9 10]\n",
            " [ 8  9 10 11]\n",
            " [ 9 10 11 12]\n",
            " [10 11 12 13]\n",
            " [11 12 13 14]]\n"
          ]
        }
      ],
      "source": [
        "Z = np.arange(1,15,dtype=np.uint32)\n",
        "R = stride_tricks.as_strided(Z,(11,4),(4,4))\n",
        "print(R)"
      ]
    },
    {
      "cell_type": "markdown",
      "metadata": {
        "id": "6uhhLhTLNv7t"
      },
      "source": [
        "#### 82. Compute a matrix rank (★★★) \n",
        "(**hint**: np.linalg.svd) (suggestion: np.linalg.svd)"
      ]
    },
    {
      "cell_type": "code",
      "execution_count": null,
      "metadata": {
        "id": "aKxGOsLPNv7u",
        "colab": {
          "base_uri": "https://localhost:8080/"
        },
        "outputId": "a14edb24-59ad-4608-9ffd-3a736d3ac152"
      },
      "outputs": [
        {
          "output_type": "stream",
          "name": "stdout",
          "text": [
            "10\n"
          ]
        }
      ],
      "source": [
        "Z = np.random.uniform(0,1,(10,10))\n",
        "U, S, V = np.linalg.svd(Z)\n",
        "rank = np.sum(S > 1e-10)\n",
        "print(rank)"
      ]
    },
    {
      "cell_type": "markdown",
      "metadata": {
        "id": "uoBQTrarNv7v"
      },
      "source": [
        "#### 83. How to find the most frequent value in an array? \n",
        "(**hint**: np.bincount, argmax)"
      ]
    },
    {
      "cell_type": "code",
      "execution_count": null,
      "metadata": {
        "id": "iSc49GS7Nv7w",
        "colab": {
          "base_uri": "https://localhost:8080/"
        },
        "outputId": "9b493235-55f9-41ae-f97e-2b0a4041e9d5"
      },
      "outputs": [
        {
          "output_type": "stream",
          "name": "stdout",
          "text": [
            "7\n"
          ]
        }
      ],
      "source": [
        "Z = np.random.randint(0,10,50)\n",
        "print(np.bincount(Z).argmax())"
      ]
    },
    {
      "cell_type": "markdown",
      "metadata": {
        "id": "w68tOX2xNv7x"
      },
      "source": [
        "#### 84. Extract all the contiguous 3x3 blocks from a random 10x10 matrix (★★★) \n",
        "(**hint**: stride\\_tricks.as\\_strided)"
      ]
    },
    {
      "cell_type": "code",
      "execution_count": null,
      "metadata": {
        "id": "oCHd0PauNv7x",
        "colab": {
          "base_uri": "https://localhost:8080/"
        },
        "outputId": "a51d45c4-7d3b-4911-f048-22fdcf39cf36"
      },
      "outputs": [
        {
          "output_type": "stream",
          "name": "stdout",
          "text": [
            "[[[[2 3 0]\n",
            "   [0 0 4]\n",
            "   [1 4 0]]\n",
            "\n",
            "  [[3 0 1]\n",
            "   [0 4 3]\n",
            "   [4 0 0]]\n",
            "\n",
            "  [[0 1 4]\n",
            "   [4 3 4]\n",
            "   [0 0 0]]\n",
            "\n",
            "  [[1 4 4]\n",
            "   [3 4 2]\n",
            "   [0 0 3]]\n",
            "\n",
            "  [[4 4 1]\n",
            "   [4 2 3]\n",
            "   [0 3 0]]\n",
            "\n",
            "  [[4 1 4]\n",
            "   [2 3 0]\n",
            "   [3 0 1]]\n",
            "\n",
            "  [[1 4 1]\n",
            "   [3 0 0]\n",
            "   [0 1 4]]\n",
            "\n",
            "  [[4 1 0]\n",
            "   [0 0 2]\n",
            "   [1 4 4]]]\n",
            "\n",
            "\n",
            " [[[0 0 4]\n",
            "   [1 4 0]\n",
            "   [0 0 4]]\n",
            "\n",
            "  [[0 4 3]\n",
            "   [4 0 0]\n",
            "   [0 4 2]]\n",
            "\n",
            "  [[4 3 4]\n",
            "   [0 0 0]\n",
            "   [4 2 2]]\n",
            "\n",
            "  [[3 4 2]\n",
            "   [0 0 3]\n",
            "   [2 2 4]]\n",
            "\n",
            "  [[4 2 3]\n",
            "   [0 3 0]\n",
            "   [2 4 4]]\n",
            "\n",
            "  [[2 3 0]\n",
            "   [3 0 1]\n",
            "   [4 4 2]]\n",
            "\n",
            "  [[3 0 0]\n",
            "   [0 1 4]\n",
            "   [4 2 0]]\n",
            "\n",
            "  [[0 0 2]\n",
            "   [1 4 4]\n",
            "   [2 0 0]]]\n",
            "\n",
            "\n",
            " [[[1 4 0]\n",
            "   [0 0 4]\n",
            "   [2 0 4]]\n",
            "\n",
            "  [[4 0 0]\n",
            "   [0 4 2]\n",
            "   [0 4 1]]\n",
            "\n",
            "  [[0 0 0]\n",
            "   [4 2 2]\n",
            "   [4 1 1]]\n",
            "\n",
            "  [[0 0 3]\n",
            "   [2 2 4]\n",
            "   [1 1 4]]\n",
            "\n",
            "  [[0 3 0]\n",
            "   [2 4 4]\n",
            "   [1 4 0]]\n",
            "\n",
            "  [[3 0 1]\n",
            "   [4 4 2]\n",
            "   [4 0 4]]\n",
            "\n",
            "  [[0 1 4]\n",
            "   [4 2 0]\n",
            "   [0 4 1]]\n",
            "\n",
            "  [[1 4 4]\n",
            "   [2 0 0]\n",
            "   [4 1 4]]]\n",
            "\n",
            "\n",
            " [[[0 0 4]\n",
            "   [2 0 4]\n",
            "   [3 1 0]]\n",
            "\n",
            "  [[0 4 2]\n",
            "   [0 4 1]\n",
            "   [1 0 2]]\n",
            "\n",
            "  [[4 2 2]\n",
            "   [4 1 1]\n",
            "   [0 2 1]]\n",
            "\n",
            "  [[2 2 4]\n",
            "   [1 1 4]\n",
            "   [2 1 2]]\n",
            "\n",
            "  [[2 4 4]\n",
            "   [1 4 0]\n",
            "   [1 2 4]]\n",
            "\n",
            "  [[4 4 2]\n",
            "   [4 0 4]\n",
            "   [2 4 0]]\n",
            "\n",
            "  [[4 2 0]\n",
            "   [0 4 1]\n",
            "   [4 0 2]]\n",
            "\n",
            "  [[2 0 0]\n",
            "   [4 1 4]\n",
            "   [0 2 0]]]\n",
            "\n",
            "\n",
            " [[[2 0 4]\n",
            "   [3 1 0]\n",
            "   [1 2 3]]\n",
            "\n",
            "  [[0 4 1]\n",
            "   [1 0 2]\n",
            "   [2 3 1]]\n",
            "\n",
            "  [[4 1 1]\n",
            "   [0 2 1]\n",
            "   [3 1 2]]\n",
            "\n",
            "  [[1 1 4]\n",
            "   [2 1 2]\n",
            "   [1 2 3]]\n",
            "\n",
            "  [[1 4 0]\n",
            "   [1 2 4]\n",
            "   [2 3 3]]\n",
            "\n",
            "  [[4 0 4]\n",
            "   [2 4 0]\n",
            "   [3 3 2]]\n",
            "\n",
            "  [[0 4 1]\n",
            "   [4 0 2]\n",
            "   [3 2 1]]\n",
            "\n",
            "  [[4 1 4]\n",
            "   [0 2 0]\n",
            "   [2 1 1]]]\n",
            "\n",
            "\n",
            " [[[3 1 0]\n",
            "   [1 2 3]\n",
            "   [4 1 0]]\n",
            "\n",
            "  [[1 0 2]\n",
            "   [2 3 1]\n",
            "   [1 0 2]]\n",
            "\n",
            "  [[0 2 1]\n",
            "   [3 1 2]\n",
            "   [0 2 3]]\n",
            "\n",
            "  [[2 1 2]\n",
            "   [1 2 3]\n",
            "   [2 3 1]]\n",
            "\n",
            "  [[1 2 4]\n",
            "   [2 3 3]\n",
            "   [3 1 2]]\n",
            "\n",
            "  [[2 4 0]\n",
            "   [3 3 2]\n",
            "   [1 2 0]]\n",
            "\n",
            "  [[4 0 2]\n",
            "   [3 2 1]\n",
            "   [2 0 4]]\n",
            "\n",
            "  [[0 2 0]\n",
            "   [2 1 1]\n",
            "   [0 4 1]]]\n",
            "\n",
            "\n",
            " [[[1 2 3]\n",
            "   [4 1 0]\n",
            "   [3 0 4]]\n",
            "\n",
            "  [[2 3 1]\n",
            "   [1 0 2]\n",
            "   [0 4 4]]\n",
            "\n",
            "  [[3 1 2]\n",
            "   [0 2 3]\n",
            "   [4 4 4]]\n",
            "\n",
            "  [[1 2 3]\n",
            "   [2 3 1]\n",
            "   [4 4 4]]\n",
            "\n",
            "  [[2 3 3]\n",
            "   [3 1 2]\n",
            "   [4 4 2]]\n",
            "\n",
            "  [[3 3 2]\n",
            "   [1 2 0]\n",
            "   [4 2 3]]\n",
            "\n",
            "  [[3 2 1]\n",
            "   [2 0 4]\n",
            "   [2 3 1]]\n",
            "\n",
            "  [[2 1 1]\n",
            "   [0 4 1]\n",
            "   [3 1 1]]]\n",
            "\n",
            "\n",
            " [[[4 1 0]\n",
            "   [3 0 4]\n",
            "   [1 4 0]]\n",
            "\n",
            "  [[1 0 2]\n",
            "   [0 4 4]\n",
            "   [4 0 3]]\n",
            "\n",
            "  [[0 2 3]\n",
            "   [4 4 4]\n",
            "   [0 3 4]]\n",
            "\n",
            "  [[2 3 1]\n",
            "   [4 4 4]\n",
            "   [3 4 2]]\n",
            "\n",
            "  [[3 1 2]\n",
            "   [4 4 2]\n",
            "   [4 2 1]]\n",
            "\n",
            "  [[1 2 0]\n",
            "   [4 2 3]\n",
            "   [2 1 3]]\n",
            "\n",
            "  [[2 0 4]\n",
            "   [2 3 1]\n",
            "   [1 3 1]]\n",
            "\n",
            "  [[0 4 1]\n",
            "   [3 1 1]\n",
            "   [3 1 1]]]]\n"
          ]
        }
      ],
      "source": [
        "Z = np.random.randint(0,5,(10,10))\n",
        "n = 3\n",
        "i = 1 + (Z.shape[0]-3)\n",
        "j = 1 + (Z.shape[1]-3)\n",
        "C = stride_tricks.as_strided(Z, shape=(i, j, n, n), strides=Z.strides + Z.strides)\n",
        "print(C)"
      ]
    },
    {
      "cell_type": "markdown",
      "metadata": {
        "id": "OwoihZKSNv7y"
      },
      "source": [
        "#### 85. Create a 2D array subclass such that Z\\[i,j\\] == Z\\[j,i\\] (★★★) \n",
        "(**hint**: class method)"
      ]
    },
    {
      "cell_type": "code",
      "execution_count": null,
      "metadata": {
        "id": "3-1g4X7UNv7z",
        "colab": {
          "base_uri": "https://localhost:8080/"
        },
        "outputId": "4a69f2fb-0899-45b9-e4c3-e3ead1ce5701"
      },
      "outputs": [
        {
          "output_type": "stream",
          "name": "stdout",
          "text": [
            "[[ 3  2  6  1 12]\n",
            " [ 2  8  8  6  9]\n",
            " [ 6  8  7 42  9]\n",
            " [ 1  6 42  3 14]\n",
            " [12  9  9 14  2]]\n"
          ]
        }
      ],
      "source": [
        "class Symetric(np.ndarray):\n",
        "    def __setitem__(self, index, value):\n",
        "        i,j = index\n",
        "        super(Symetric, self).__setitem__((i,j), value)\n",
        "        super(Symetric, self).__setitem__((j,i), value)\n",
        "\n",
        "def symetric(Z):\n",
        "    return np.asarray(Z + Z.T - np.diag(Z.diagonal())).view(Symetric)\n",
        "\n",
        "S = symetric(np.random.randint(0,10,(5,5)))\n",
        "S[2,3] = 42\n",
        "print(S)"
      ]
    },
    {
      "cell_type": "markdown",
      "metadata": {
        "id": "J2CTS2-QNv7z"
      },
      "source": [
        "#### 86. Consider a set of p matrices wich shape (n,n) and a set of p vectors with shape (n,1). How to compute the sum of of the p matrix products at once? (result has shape (n,1)) (★★★) \n",
        "(**hint**: np.tensordot)"
      ]
    },
    {
      "cell_type": "code",
      "execution_count": null,
      "metadata": {
        "id": "RBigbcgONv70",
        "colab": {
          "base_uri": "https://localhost:8080/"
        },
        "outputId": "4ea6adf7-10c4-4e5f-81b6-d772ce0eb86c"
      },
      "outputs": [
        {
          "output_type": "stream",
          "name": "stdout",
          "text": [
            "[[200.]\n",
            " [200.]\n",
            " [200.]\n",
            " [200.]\n",
            " [200.]\n",
            " [200.]\n",
            " [200.]\n",
            " [200.]\n",
            " [200.]\n",
            " [200.]\n",
            " [200.]\n",
            " [200.]\n",
            " [200.]\n",
            " [200.]\n",
            " [200.]\n",
            " [200.]\n",
            " [200.]\n",
            " [200.]\n",
            " [200.]\n",
            " [200.]]\n"
          ]
        }
      ],
      "source": [
        "p, n = 10, 20\n",
        "M = np.ones((p,n,n))\n",
        "V = np.ones((p,n,1))\n",
        "S = np.tensordot(M, V, axes=[[0, 2], [0, 1]])\n",
        "print(S)"
      ]
    },
    {
      "cell_type": "markdown",
      "metadata": {
        "id": "AVNUmFs9Nv70"
      },
      "source": [
        "#### 87. Consider a 16x16 array, how to get the block-sum (block size is 4x4)? (★★★) \n",
        "(**hint**: np.add.reduceat)"
      ]
    },
    {
      "cell_type": "code",
      "execution_count": null,
      "metadata": {
        "id": "OYRbgEFANv71",
        "colab": {
          "base_uri": "https://localhost:8080/"
        },
        "outputId": "d5d76528-b092-462a-aaee-091617cc5131"
      },
      "outputs": [
        {
          "output_type": "stream",
          "name": "stdout",
          "text": [
            "[[16. 16. 16. 16.]\n",
            " [16. 16. 16. 16.]\n",
            " [16. 16. 16. 16.]\n",
            " [16. 16. 16. 16.]]\n"
          ]
        }
      ],
      "source": [
        "Z = np.ones((16,16))\n",
        "k = 4\n",
        "S = np.add.reduceat(np.add.reduceat(Z, np.arange(0, Z.shape[0], k), axis=0),\n",
        "                                       np.arange(0, Z.shape[1], k), axis=1)\n",
        "print(S)"
      ]
    },
    {
      "cell_type": "markdown",
      "metadata": {
        "id": "B4Ky8CCCNv72"
      },
      "source": [
        "#### 88. How to implement the Game of Life using numpy arrays? (★★★)"
      ]
    },
    {
      "cell_type": "code",
      "execution_count": null,
      "metadata": {
        "id": "-0_dZOC4Nv73",
        "colab": {
          "base_uri": "https://localhost:8080/"
        },
        "outputId": "55cb01c7-3bd1-4573-a0d9-74c18aa80b0e"
      },
      "outputs": [
        {
          "output_type": "stream",
          "name": "stdout",
          "text": [
            "[[0 0 0 ... 0 0 0]\n",
            " [0 0 0 ... 0 0 0]\n",
            " [0 0 0 ... 0 0 0]\n",
            " ...\n",
            " [0 0 0 ... 0 0 0]\n",
            " [0 0 0 ... 0 0 0]\n",
            " [0 0 0 ... 0 0 0]]\n"
          ]
        }
      ],
      "source": [
        "def iterate(Z):\n",
        "    # Count neighbours\n",
        "    N = (Z[0:-2,0:-2] + Z[0:-2,1:-1] + Z[0:-2,2:] +\n",
        "         Z[1:-1,0:-2]                + Z[1:-1,2:] +\n",
        "         Z[2:  ,0:-2] + Z[2:  ,1:-1] + Z[2:  ,2:])\n",
        "\n",
        "    # Apply rules\n",
        "    birth = (N==3) & (Z[1:-1,1:-1]==0)\n",
        "    survive = ((N==2) | (N==3)) & (Z[1:-1,1:-1]==1)\n",
        "    Z[...] = 0\n",
        "    Z[1:-1,1:-1][birth | survive] = 1\n",
        "    return Z\n",
        "\n",
        "Z = np.random.randint(0,2,(50,50))\n",
        "for i in range(100): Z = iterate(Z)\n",
        "print(Z)"
      ]
    },
    {
      "cell_type": "markdown",
      "metadata": {
        "id": "UxaAkcF7Nv73"
      },
      "source": [
        "#### 89. How to get the n largest values of an array (★★★) \n",
        "(**hint**: np.argsort | np.argpartition)"
      ]
    },
    {
      "cell_type": "code",
      "execution_count": null,
      "metadata": {
        "id": "xG1fcxB9Nv74",
        "colab": {
          "base_uri": "https://localhost:8080/"
        },
        "outputId": "ff6e2290-f154-428e-9a99-8947d0f06cec"
      },
      "outputs": [
        {
          "output_type": "stream",
          "name": "stdout",
          "text": [
            "[9995 9996 9997 9998 9999]\n",
            "[9998 9999 9997 9996 9995]\n"
          ]
        }
      ],
      "source": [
        "Z = np.arange(10000)\n",
        "np.random.shuffle(Z)\n",
        "n = 5\n",
        "\n",
        "print (Z[np.argsort(Z)[-n:]])\n",
        "\n",
        "print (Z[np.argpartition(-Z,n)[:n]])"
      ]
    },
    {
      "cell_type": "markdown",
      "metadata": {
        "id": "_wWlBmGhNv74"
      },
      "source": [
        "#### 90. Given an arbitrary number of vectors, build the cartesian product (every combinations of every item) (★★★) \n",
        "(**hint**: np.indices)"
      ]
    },
    {
      "cell_type": "code",
      "execution_count": null,
      "metadata": {
        "scrolled": true,
        "id": "HidfwHe3Nv76",
        "colab": {
          "base_uri": "https://localhost:8080/"
        },
        "outputId": "8cea802a-8dd3-4c1b-a9dd-342403e8a945"
      },
      "outputs": [
        {
          "output_type": "stream",
          "name": "stdout",
          "text": [
            "[[1 4 6]\n",
            " [1 4 7]\n",
            " [1 5 6]\n",
            " [1 5 7]\n",
            " [2 4 6]\n",
            " [2 4 7]\n",
            " [2 5 6]\n",
            " [2 5 7]\n",
            " [3 4 6]\n",
            " [3 4 7]\n",
            " [3 5 6]\n",
            " [3 5 7]]\n"
          ]
        }
      ],
      "source": [
        "def cartesian(arrays):\n",
        "    arrays = [np.asarray(a) for a in arrays]\n",
        "    shape = (len(x) for x in arrays)\n",
        "\n",
        "    ix = np.indices(shape, dtype=int)\n",
        "    ix = ix.reshape(len(arrays), -1).T\n",
        "\n",
        "    for n, arr in enumerate(arrays):\n",
        "        ix[:, n] = arrays[n][ix[:, n]]\n",
        "\n",
        "    return ix\n",
        "\n",
        "print (cartesian(([1, 2, 3], [4, 5], [6, 7])))"
      ]
    },
    {
      "cell_type": "markdown",
      "metadata": {
        "id": "WwuwvXd5Nv8A"
      },
      "source": [
        "#### 91. How to create a record array from a regular array? (★★★) \n",
        "(**hint**: np.core.records.fromarrays)"
      ]
    },
    {
      "cell_type": "code",
      "execution_count": null,
      "metadata": {
        "id": "-Qev8PExNv8B",
        "colab": {
          "base_uri": "https://localhost:8080/"
        },
        "outputId": "698067b3-7088-46c3-885c-e52550a0eeab"
      },
      "outputs": [
        {
          "output_type": "stream",
          "name": "stdout",
          "text": [
            "[(b'Hello', 2.5, 3) (b'World', 3.6, 2)]\n"
          ]
        }
      ],
      "source": [
        "Z = np.array([(\"Hello\", 2.5, 3),\n",
        "              (\"World\", 3.6, 2)])\n",
        "R = np.core.records.fromarrays(Z.T, \n",
        "                               names='col1, col2, col3',\n",
        "                               formats = 'S8, f8, i8')\n",
        "print(R)"
      ]
    },
    {
      "cell_type": "markdown",
      "metadata": {
        "id": "_QmRPLvVNv8B"
      },
      "source": [
        "#### 92. Consider a large vector Z, compute Z to the power of 3 using 3 different methods (★★★) \n",
        "(**hint**: np.power, \\*, np.einsum)"
      ]
    },
    {
      "cell_type": "code",
      "execution_count": null,
      "metadata": {
        "id": "-s8Pmtg1Nv8C",
        "colab": {
          "base_uri": "https://localhost:8080/",
          "height": 340
        },
        "outputId": "b91d853f-00f8-43c7-e1d9-fa6a8dd722a3"
      },
      "outputs": [
        {
          "output_type": "error",
          "ename": "TypeError",
          "evalue": "ignored",
          "traceback": [
            "\u001b[0;31m---------------------------------------------------------------------------\u001b[0m",
            "\u001b[0;31mTypeError\u001b[0m                                 Traceback (most recent call last)",
            "\u001b[0;32m<ipython-input-93-3d232f0722da>\u001b[0m in \u001b[0;36m<module>\u001b[0;34m()\u001b[0m\n\u001b[0;32m----> 1\u001b[0;31m \u001b[0mx\u001b[0m \u001b[0;34m=\u001b[0m \u001b[0mnp\u001b[0m\u001b[0;34m.\u001b[0m\u001b[0mrandom\u001b[0m\u001b[0;34m.\u001b[0m\u001b[0mrand\u001b[0m\u001b[0;34m(\u001b[0m\u001b[0;36m5e7\u001b[0m\u001b[0;34m)\u001b[0m\u001b[0;34m\u001b[0m\u001b[0;34m\u001b[0m\u001b[0m\n\u001b[0m\u001b[1;32m      2\u001b[0m \u001b[0;34m\u001b[0m\u001b[0m\n\u001b[1;32m      3\u001b[0m \u001b[0mget_ipython\u001b[0m\u001b[0;34m(\u001b[0m\u001b[0;34m)\u001b[0m\u001b[0;34m.\u001b[0m\u001b[0mmagic\u001b[0m\u001b[0;34m(\u001b[0m\u001b[0;34m'timeit np.power(x,3)'\u001b[0m\u001b[0;34m)\u001b[0m\u001b[0;34m\u001b[0m\u001b[0;34m\u001b[0m\u001b[0m\n\u001b[1;32m      4\u001b[0m \u001b[0mget_ipython\u001b[0m\u001b[0;34m(\u001b[0m\u001b[0;34m)\u001b[0m\u001b[0;34m.\u001b[0m\u001b[0mmagic\u001b[0m\u001b[0;34m(\u001b[0m\u001b[0;34m'timeit x*x*x'\u001b[0m\u001b[0;34m)\u001b[0m\u001b[0;34m\u001b[0m\u001b[0;34m\u001b[0m\u001b[0m\n\u001b[1;32m      5\u001b[0m \u001b[0mget_ipython\u001b[0m\u001b[0;34m(\u001b[0m\u001b[0;34m)\u001b[0m\u001b[0;34m.\u001b[0m\u001b[0mmagic\u001b[0m\u001b[0;34m(\u001b[0m\u001b[0;34m\"timeit np.einsum('i,i,i->i',x,x,x)\"\u001b[0m\u001b[0;34m)\u001b[0m\u001b[0;34m\u001b[0m\u001b[0;34m\u001b[0m\u001b[0m\n",
            "\u001b[0;32mmtrand.pyx\u001b[0m in \u001b[0;36mnumpy.random.mtrand.RandomState.rand\u001b[0;34m()\u001b[0m\n",
            "\u001b[0;32mmtrand.pyx\u001b[0m in \u001b[0;36mnumpy.random.mtrand.RandomState.random_sample\u001b[0;34m()\u001b[0m\n",
            "\u001b[0;32m_common.pyx\u001b[0m in \u001b[0;36mnumpy.random._common.double_fill\u001b[0;34m()\u001b[0m\n",
            "\u001b[0;31mTypeError\u001b[0m: 'float' object cannot be interpreted as an integer"
          ]
        }
      ],
      "source": [
        "x = np.random.rand(5e7)\n",
        "\n",
        "%timeit np.power(x,3)\n",
        "%timeit x*x*x\n",
        "%timeit np.einsum('i,i,i->i',x,x,x)"
      ]
    },
    {
      "cell_type": "markdown",
      "metadata": {
        "id": "1iZLm01qNv8C"
      },
      "source": [
        "#### 93. Consider two arrays A and B of shape (8,3) and (2,2). How to find rows of A that contain elements of each row of B regardless of the order of the elements in B? (★★★) \n",
        "(**hint**: np.where)"
      ]
    },
    {
      "cell_type": "code",
      "execution_count": null,
      "metadata": {
        "id": "xAvDdvhXNv8D",
        "colab": {
          "base_uri": "https://localhost:8080/"
        },
        "outputId": "891e82aa-f601-47f7-e191-424830b0a2d3"
      },
      "outputs": [
        {
          "output_type": "stream",
          "name": "stdout",
          "text": [
            "[1 7]\n"
          ]
        }
      ],
      "source": [
        "A = np.random.randint(0,5,(8,3))\n",
        "B = np.random.randint(0,5,(2,2))\n",
        "\n",
        "C = (A[..., np.newaxis, np.newaxis] == B)\n",
        "rows = np.where(C.any((3,1)).all(1))[0]\n",
        "print(rows)"
      ]
    },
    {
      "cell_type": "markdown",
      "metadata": {
        "id": "8-H8s9MVNv8D"
      },
      "source": [
        "#### 94. Considering a 10x3 matrix, extract rows with unequal values (e.g. \\[2,2,3\\]) (★★★)"
      ]
    },
    {
      "cell_type": "code",
      "execution_count": null,
      "metadata": {
        "id": "RLZ8nyp8Nv8E",
        "colab": {
          "base_uri": "https://localhost:8080/"
        },
        "outputId": "4e230f90-dc4c-472a-9ab8-7df51e6d4303"
      },
      "outputs": [
        {
          "output_type": "stream",
          "name": "stdout",
          "text": [
            "[[0 4 0]\n",
            " [0 3 2]\n",
            " [2 0 2]\n",
            " [4 0 0]\n",
            " [4 0 4]\n",
            " [3 4 1]\n",
            " [4 3 2]\n",
            " [2 3 4]\n",
            " [4 0 3]\n",
            " [2 1 1]]\n",
            "[[0 4 0]\n",
            " [0 3 2]\n",
            " [2 0 2]\n",
            " [4 0 0]\n",
            " [4 0 4]\n",
            " [3 4 1]\n",
            " [4 3 2]\n",
            " [2 3 4]\n",
            " [4 0 3]\n",
            " [2 1 1]]\n",
            "[[0 4 0]\n",
            " [0 3 2]\n",
            " [2 0 2]\n",
            " [4 0 0]\n",
            " [4 0 4]\n",
            " [3 4 1]\n",
            " [4 3 2]\n",
            " [2 3 4]\n",
            " [4 0 3]\n",
            " [2 1 1]]\n"
          ]
        }
      ],
      "source": [
        "Z = np.random.randint(0,5,(10,3))\n",
        "print(Z)\n",
        "\n",
        "E = np.all(Z[:,1:] == Z[:,:-1], axis=1)\n",
        "U = Z[~E]\n",
        "print(U)\n",
        "\n",
        "U = Z[Z.max(axis=1) != Z.min(axis=1),:]\n",
        "print(U)"
      ]
    },
    {
      "cell_type": "markdown",
      "metadata": {
        "id": "K4JY2LkuNv8F"
      },
      "source": [
        "#### 95. Convert a vector of ints into a matrix binary representation (★★★) \n",
        "(**hint**: np.unpackbits)"
      ]
    },
    {
      "cell_type": "code",
      "execution_count": null,
      "metadata": {
        "id": "iSgV1ZL4Nv8F",
        "colab": {
          "base_uri": "https://localhost:8080/"
        },
        "outputId": "0cdc68da-b7e3-43ba-cc12-4b3e7dfb9169"
      },
      "outputs": [
        {
          "output_type": "stream",
          "name": "stdout",
          "text": [
            "[[0 0 0 0 0 0 0 0]\n",
            " [0 0 0 0 0 0 0 1]\n",
            " [0 0 0 0 0 0 1 0]\n",
            " [0 0 0 0 0 0 1 1]\n",
            " [0 0 0 0 1 1 1 1]\n",
            " [0 0 0 1 0 0 0 0]\n",
            " [0 0 1 0 0 0 0 0]\n",
            " [0 1 0 0 0 0 0 0]\n",
            " [1 0 0 0 0 0 0 0]]\n",
            "[[0 0 0 0 0 0 0 0]\n",
            " [0 0 0 0 0 0 0 1]\n",
            " [0 0 0 0 0 0 1 0]\n",
            " [0 0 0 0 0 0 1 1]\n",
            " [0 0 0 0 1 1 1 1]\n",
            " [0 0 0 1 0 0 0 0]\n",
            " [0 0 1 0 0 0 0 0]\n",
            " [0 1 0 0 0 0 0 0]\n",
            " [1 0 0 0 0 0 0 0]]\n"
          ]
        }
      ],
      "source": [
        "I = np.array([0, 1, 2, 3, 15, 16, 32, 64, 128])\n",
        "B = ((I.reshape(-1,1) & (2**np.arange(8))) != 0).astype(int)\n",
        "print(B[:,::-1])\n",
        "\n",
        "I = np.array([0, 1, 2, 3, 15, 16, 32, 64, 128], dtype=np.uint8)\n",
        "print(np.unpackbits(I[:, np.newaxis], axis=1))"
      ]
    },
    {
      "cell_type": "markdown",
      "metadata": {
        "id": "Xnw9SWqUNv8G"
      },
      "source": [
        "#### 96. Given a two dimensional array, how to extract unique rows? (★★★) \n",
        "(**hint**: np.ascontiguousarray)"
      ]
    },
    {
      "cell_type": "code",
      "execution_count": null,
      "metadata": {
        "id": "z_Ei5t3pNv8H",
        "colab": {
          "base_uri": "https://localhost:8080/"
        },
        "outputId": "7f4a9953-5995-412e-c2e3-5f15318ee42e"
      },
      "outputs": [
        {
          "output_type": "stream",
          "name": "stdout",
          "text": [
            "[[0 1 0]\n",
            " [0 1 1]\n",
            " [1 0 0]\n",
            " [1 0 1]\n",
            " [1 1 0]]\n",
            "[[0 1 0]\n",
            " [0 1 1]\n",
            " [1 0 0]\n",
            " [1 0 1]\n",
            " [1 1 0]]\n"
          ]
        }
      ],
      "source": [
        "Z = np.random.randint(0,2,(6,3))\n",
        "T = np.ascontiguousarray(Z).view(np.dtype((np.void, Z.dtype.itemsize * Z.shape[1])))\n",
        "_, idx = np.unique(T, return_index=True)\n",
        "uZ = Z[idx]\n",
        "print(uZ)\n",
        "\n",
        "uZ = np.unique(Z, axis=0)\n",
        "print(uZ)"
      ]
    },
    {
      "cell_type": "markdown",
      "metadata": {
        "id": "NenveuGzNv8H"
      },
      "source": [
        "#### 97. Considering 2 vectors A & B, write the einsum equivalent of inner, outer, sum, and mul function (★★★) \n",
        "(**hint**: np.einsum)"
      ]
    },
    {
      "cell_type": "code",
      "execution_count": null,
      "metadata": {
        "id": "G8dpJkzdNv8I",
        "colab": {
          "base_uri": "https://localhost:8080/"
        },
        "outputId": "3309e4ad-6b21-4ac0-cfad-fba6c0b42e33"
      },
      "outputs": [
        {
          "output_type": "execute_result",
          "data": {
            "text/plain": [
              "array([[5.73368708e-02, 9.15293240e-02, 5.31081200e-03, 1.57614870e-02,\n",
              "        1.54083252e-02, 2.75280183e-02, 6.13226724e-02, 6.18156478e-02,\n",
              "        2.74923630e-02, 2.22655182e-02],\n",
              "       [1.86529645e-01, 2.97765331e-01, 1.72772574e-02, 5.12756368e-02,\n",
              "        5.01267228e-02, 8.95547908e-02, 1.99496348e-01, 2.01100107e-01,\n",
              "        8.94387962e-02, 7.24347029e-02],\n",
              "       [6.87035497e-03, 1.09674445e-02, 6.36364753e-04, 1.88861039e-03,\n",
              "        1.84629301e-03, 3.29852771e-03, 7.34795117e-03, 7.40702164e-03,\n",
              "        3.29425534e-03, 2.66795190e-03],\n",
              "       [4.98121678e-01, 7.95173154e-01, 4.61383844e-02, 1.36930011e-01,\n",
              "        1.33861871e-01, 2.39153313e-01, 5.32748858e-01, 5.37031647e-01,\n",
              "        2.38843553e-01, 1.93434646e-01],\n",
              "       [3.96907800e-01, 6.33601069e-01, 3.67634766e-02, 1.09107055e-01,\n",
              "        1.06662334e-01, 1.90559495e-01, 4.24499047e-01, 4.27911611e-01,\n",
              "        1.90312676e-01, 1.54130453e-01],\n",
              "       [2.03322417e-01, 3.24572358e-01, 1.88326833e-02, 5.58918472e-02,\n",
              "        5.46394994e-02, 9.76171724e-02, 2.17456478e-01, 2.19204619e-01,\n",
              "        9.74907351e-02, 7.89558082e-02],\n",
              "       [3.75432077e-01, 5.99318444e-01, 3.47742936e-02, 1.03203536e-01,\n",
              "        1.00891092e-01, 1.80248781e-01, 4.01530428e-01, 4.04758347e-01,\n",
              "        1.80015316e-01, 1.45790826e-01],\n",
              "       [1.47632868e-01, 2.35672725e-01, 1.36744541e-02, 4.05831969e-02,\n",
              "        3.96738644e-02, 7.08800501e-02, 1.57895641e-01, 1.59164971e-01,\n",
              "        7.07882437e-02, 5.73299913e-02],\n",
              "       [2.72553213e-01, 4.35088469e-01, 2.52451669e-02, 7.49228873e-02,\n",
              "        7.32441182e-02, 1.30855586e-01, 2.91499888e-01, 2.93843267e-01,\n",
              "        1.30686097e-01, 1.05840072e-01],\n",
              "       [4.10800117e-01, 6.55777975e-01, 3.80502487e-02, 1.12925951e-01,\n",
              "        1.10395662e-01, 1.97229339e-01, 4.39357096e-01, 4.42889105e-01,\n",
              "        1.96973880e-01, 1.59525230e-01]])"
            ]
          },
          "metadata": {},
          "execution_count": 98
        }
      ],
      "source": [
        "A = np.random.uniform(0,1,10)\n",
        "B = np.random.uniform(0,1,10)\n",
        "\n",
        "np.einsum('i->', A)\n",
        "np.einsum('i,i->i', A, B)\n",
        "np.einsum('i,i', A, B)\n",
        "np.einsum('i,j->ij', A, B)"
      ]
    },
    {
      "cell_type": "markdown",
      "metadata": {
        "id": "WqsAcBS4Nv8J"
      },
      "source": [
        "#### 98. Considering a path described by two vectors (X,Y), how to sample it using equidistant samples (★★★)? \n",
        "(**hint**: np.cumsum, np.interp)"
      ]
    },
    {
      "cell_type": "code",
      "execution_count": null,
      "metadata": {
        "collapsed": true,
        "id": "rHqsR0TKNv8K"
      },
      "outputs": [],
      "source": [
        "phi = np.arange(0, 10*np.pi, 0.1)\n",
        "a = 1\n",
        "x = a*phi*np.cos(phi)\n",
        "y = a*phi*np.sin(phi)\n",
        "\n",
        "dr = (np.diff(x)**2 + np.diff(y)**2)**.5\n",
        "r = np.zeros_like(x)\n",
        "r[1:] = np.cumsum(dr)\n",
        "r_int = np.linspace(0, r.max(), 200)\n",
        "x_int = np.interp(r_int, r, x)\n",
        "y_int = np.interp(r_int, r, y)"
      ]
    },
    {
      "cell_type": "markdown",
      "metadata": {
        "id": "WaHHOak3Nv8K"
      },
      "source": [
        "#### 99. Given an integer n and a 2D array X, select from X the rows which can be interpreted as draws from a multinomial distribution with n degrees, i.e., the rows which only contain integers and which sum to n. (★★★) \n",
        "(**hint**: np.logical\\_and.reduce, np.mod)"
      ]
    },
    {
      "cell_type": "code",
      "execution_count": null,
      "metadata": {
        "id": "ypXeqy-kNv8L",
        "colab": {
          "base_uri": "https://localhost:8080/"
        },
        "outputId": "eaf4575c-0232-4355-f720-9aafd1f65526"
      },
      "outputs": [
        {
          "output_type": "stream",
          "name": "stdout",
          "text": [
            "[[2. 0. 1. 1.]]\n"
          ]
        }
      ],
      "source": [
        "X = np.asarray([[1.0, 0.0, 3.0, 8.0],\n",
        "                [2.0, 0.0, 1.0, 1.0],\n",
        "                [1.5, 2.5, 1.0, 0.0]])\n",
        "n = 4\n",
        "M = np.logical_and.reduce(np.mod(X, 1) == 0, axis=-1)\n",
        "M &= (X.sum(axis=-1) == n)\n",
        "print(X[M])"
      ]
    },
    {
      "cell_type": "markdown",
      "metadata": {
        "id": "7oqHRBUbNv8L"
      },
      "source": [
        "#### 100. Compute bootstrapped 95% confidence intervals for the mean of a 1D array X (i.e., resample the elements of an array with replacement N times, compute the mean of each sample, and then compute percentiles over the means). (★★★) \n",
        "(**hint**: np.percentile)"
      ]
    },
    {
      "cell_type": "code",
      "execution_count": null,
      "metadata": {
        "id": "gxXn3CU7Nv8M",
        "colab": {
          "base_uri": "https://localhost:8080/"
        },
        "outputId": "adc02943-0f3c-4b38-d9b8-1277bc2945d3"
      },
      "outputs": [
        {
          "output_type": "stream",
          "name": "stdout",
          "text": [
            "[-0.52934168 -0.16359219]\n"
          ]
        }
      ],
      "source": [
        "X = np.random.randn(100)\n",
        "N = 1000\n",
        "idx = np.random.randint(0, X.size, (N, X.size))\n",
        "means = X[idx].mean(axis=1)\n",
        "confint = np.percentile(means, [2.5, 97.5])\n",
        "print(confint)"
      ]
    }
  ],
  "metadata": {
    "kernelspec": {
      "display_name": "Python 3",
      "language": "python",
      "name": "python3"
    },
    "language_info": {
      "codemirror_mode": {
        "name": "ipython",
        "version": 3
      },
      "file_extension": ".py",
      "mimetype": "text/x-python",
      "name": "python",
      "nbconvert_exporter": "python",
      "pygments_lexer": "ipython3",
      "version": "3.8.3"
    },
    "colab": {
      "name": "Azhar_Numpy_tasks.ipynb",
      "provenance": [],
      "collapsed_sections": []
    }
  },
  "nbformat": 4,
  "nbformat_minor": 0
}